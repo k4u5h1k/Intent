{
 "cells": [
  {
   "cell_type": "code",
   "execution_count": 308,
   "metadata": {},
   "outputs": [],
   "source": [
    "from nltk.tokenize import sent_tokenize, word_tokenize\n",
    "from nltk.stem import LancasterStemmer\n",
    "stemmer = LancasterStemmer()\n",
    "\n",
    "def stemSentence(sentence):\n",
    "    token_words=word_tokenize(sentence)\n",
    "    token_words\n",
    "    stem_sentence=[]\n",
    "    for word in token_words:\n",
    "        stem_sentence.append(stemmer.stem(word))\n",
    "        stem_sentence.append(\" \")\n",
    "    return \"\".join(stem_sentence)"
   ]
  },
  {
   "cell_type": "code",
   "execution_count": 309,
   "metadata": {},
   "outputs": [],
   "source": [
    "import re\n",
    "def preprocessing(line):\n",
    "    line = re.sub(r'[^a-zA-z.?!\\']', ' ', line)\n",
    "    line = re.sub(r'[ ]+', ' ', line)\n",
    "    return line"
   ]
  },
  {
   "cell_type": "code",
   "execution_count": 355,
   "metadata": {},
   "outputs": [
    {
     "data": {
      "text/html": [
       "<div>\n",
       "<style scoped>\n",
       "    .dataframe tbody tr th:only-of-type {\n",
       "        vertical-align: middle;\n",
       "    }\n",
       "\n",
       "    .dataframe tbody tr th {\n",
       "        vertical-align: top;\n",
       "    }\n",
       "\n",
       "    .dataframe thead th {\n",
       "        text-align: right;\n",
       "    }\n",
       "</style>\n",
       "<table border=\"1\" class=\"dataframe\">\n",
       "  <thead>\n",
       "    <tr style=\"text-align: right;\">\n",
       "      <th></th>\n",
       "      <th>intent</th>\n",
       "      <th>text</th>\n",
       "      <th>responses</th>\n",
       "      <th>extension</th>\n",
       "      <th>context</th>\n",
       "      <th>entityType</th>\n",
       "      <th>entities</th>\n",
       "    </tr>\n",
       "  </thead>\n",
       "  <tbody>\n",
       "    <tr>\n",
       "      <th>0</th>\n",
       "      <td>Greeting</td>\n",
       "      <td>[Hi, Hi there, Hola, Hello, Hello there, Hya, ...</td>\n",
       "      <td>[Hi human, please tell me your GeniSys user, H...</td>\n",
       "      <td>{'function': '', 'entities': False, 'responses...</td>\n",
       "      <td>{'in': '', 'out': 'GreetingUserRequest', 'clea...</td>\n",
       "      <td>NA</td>\n",
       "      <td>[]</td>\n",
       "    </tr>\n",
       "    <tr>\n",
       "      <th>1</th>\n",
       "      <td>GreetingResponse</td>\n",
       "      <td>[My user is Adam, This is Adam, I am Adam, It ...</td>\n",
       "      <td>[Great! Hi &lt;HUMAN&gt;! How can I help?, Good! Hi ...</td>\n",
       "      <td>{'function': 'extensions.gHumans.updateHuman',...</td>\n",
       "      <td>{'in': 'GreetingUserRequest', 'out': '', 'clea...</td>\n",
       "      <td>NA</td>\n",
       "      <td>[{'entity': 'HUMAN', 'rangeFrom': 3, 'rangeTo'...</td>\n",
       "    </tr>\n",
       "    <tr>\n",
       "      <th>2</th>\n",
       "      <td>CourtesyGreeting</td>\n",
       "      <td>[How are you?, Hi how are you?, Hello how are ...</td>\n",
       "      <td>[Hello, I am great, how are you? Please tell m...</td>\n",
       "      <td>{'function': '', 'entities': False, 'responses...</td>\n",
       "      <td>{'in': '', 'out': 'CourtesyGreetingUserRequest...</td>\n",
       "      <td>NA</td>\n",
       "      <td>[]</td>\n",
       "    </tr>\n",
       "    <tr>\n",
       "      <th>3</th>\n",
       "      <td>CourtesyGreetingResponse</td>\n",
       "      <td>[Good thanks! My user is Adam, Good thanks! Th...</td>\n",
       "      <td>[Great! Hi &lt;HUMAN&gt;! How can I help?, Good! Hi ...</td>\n",
       "      <td>{'function': 'extensions.gHumans.updateHuman',...</td>\n",
       "      <td>{'in': 'GreetingUserRequest', 'out': '', 'clea...</td>\n",
       "      <td>NA</td>\n",
       "      <td>[{'entity': 'HUMAN', 'rangeFrom': 5, 'rangeTo'...</td>\n",
       "    </tr>\n",
       "    <tr>\n",
       "      <th>4</th>\n",
       "      <td>CurrentHumanQuery</td>\n",
       "      <td>[What is my name?, What do you call me?, Who d...</td>\n",
       "      <td>[You are &lt;HUMAN&gt;! How can I help?, Your name i...</td>\n",
       "      <td>{'function': 'extensions.gHumans.getCurrentHum...</td>\n",
       "      <td>{'in': '', 'out': 'CurrentHumanQuery', 'clear'...</td>\n",
       "      <td>NA</td>\n",
       "      <td>[]</td>\n",
       "    </tr>\n",
       "  </tbody>\n",
       "</table>\n",
       "</div>"
      ],
      "text/plain": [
       "                     intent  \\\n",
       "0                  Greeting   \n",
       "1          GreetingResponse   \n",
       "2          CourtesyGreeting   \n",
       "3  CourtesyGreetingResponse   \n",
       "4         CurrentHumanQuery   \n",
       "\n",
       "                                                text  \\\n",
       "0  [Hi, Hi there, Hola, Hello, Hello there, Hya, ...   \n",
       "1  [My user is Adam, This is Adam, I am Adam, It ...   \n",
       "2  [How are you?, Hi how are you?, Hello how are ...   \n",
       "3  [Good thanks! My user is Adam, Good thanks! Th...   \n",
       "4  [What is my name?, What do you call me?, Who d...   \n",
       "\n",
       "                                           responses  \\\n",
       "0  [Hi human, please tell me your GeniSys user, H...   \n",
       "1  [Great! Hi <HUMAN>! How can I help?, Good! Hi ...   \n",
       "2  [Hello, I am great, how are you? Please tell m...   \n",
       "3  [Great! Hi <HUMAN>! How can I help?, Good! Hi ...   \n",
       "4  [You are <HUMAN>! How can I help?, Your name i...   \n",
       "\n",
       "                                           extension  \\\n",
       "0  {'function': '', 'entities': False, 'responses...   \n",
       "1  {'function': 'extensions.gHumans.updateHuman',...   \n",
       "2  {'function': '', 'entities': False, 'responses...   \n",
       "3  {'function': 'extensions.gHumans.updateHuman',...   \n",
       "4  {'function': 'extensions.gHumans.getCurrentHum...   \n",
       "\n",
       "                                             context entityType  \\\n",
       "0  {'in': '', 'out': 'GreetingUserRequest', 'clea...         NA   \n",
       "1  {'in': 'GreetingUserRequest', 'out': '', 'clea...         NA   \n",
       "2  {'in': '', 'out': 'CourtesyGreetingUserRequest...         NA   \n",
       "3  {'in': 'GreetingUserRequest', 'out': '', 'clea...         NA   \n",
       "4  {'in': '', 'out': 'CurrentHumanQuery', 'clear'...         NA   \n",
       "\n",
       "                                            entities  \n",
       "0                                                 []  \n",
       "1  [{'entity': 'HUMAN', 'rangeFrom': 3, 'rangeTo'...  \n",
       "2                                                 []  \n",
       "3  [{'entity': 'HUMAN', 'rangeFrom': 5, 'rangeTo'...  \n",
       "4                                                 []  "
      ]
     },
     "execution_count": 355,
     "metadata": {},
     "output_type": "execute_result"
    }
   ],
   "source": [
    "df = pd.read_json('./intent.json')\n",
    "df.head()"
   ]
  },
  {
   "cell_type": "code",
   "execution_count": 311,
   "metadata": {},
   "outputs": [
    {
     "data": {
      "text/html": [
       "<div>\n",
       "<style scoped>\n",
       "    .dataframe tbody tr th:only-of-type {\n",
       "        vertical-align: middle;\n",
       "    }\n",
       "\n",
       "    .dataframe tbody tr th {\n",
       "        vertical-align: top;\n",
       "    }\n",
       "\n",
       "    .dataframe thead th {\n",
       "        text-align: right;\n",
       "    }\n",
       "</style>\n",
       "<table border=\"1\" class=\"dataframe\">\n",
       "  <thead>\n",
       "    <tr style=\"text-align: right;\">\n",
       "      <th></th>\n",
       "      <th>intent</th>\n",
       "      <th>caption</th>\n",
       "    </tr>\n",
       "  </thead>\n",
       "  <tbody>\n",
       "    <tr>\n",
       "      <th>0</th>\n",
       "      <td>Greeting</td>\n",
       "      <td>Hi</td>\n",
       "    </tr>\n",
       "    <tr>\n",
       "      <th>1</th>\n",
       "      <td>Greeting</td>\n",
       "      <td>Hi there</td>\n",
       "    </tr>\n",
       "    <tr>\n",
       "      <th>2</th>\n",
       "      <td>Greeting</td>\n",
       "      <td>Hola</td>\n",
       "    </tr>\n",
       "    <tr>\n",
       "      <th>3</th>\n",
       "      <td>Greeting</td>\n",
       "      <td>Hello</td>\n",
       "    </tr>\n",
       "    <tr>\n",
       "      <th>4</th>\n",
       "      <td>Greeting</td>\n",
       "      <td>Hello there</td>\n",
       "    </tr>\n",
       "  </tbody>\n",
       "</table>\n",
       "</div>"
      ],
      "text/plain": [
       "     intent      caption\n",
       "0  Greeting           Hi\n",
       "1  Greeting     Hi there\n",
       "2  Greeting         Hola\n",
       "3  Greeting        Hello\n",
       "4  Greeting  Hello there"
      ]
     },
     "execution_count": 311,
     "metadata": {},
     "output_type": "execute_result"
    }
   ],
   "source": [
    "intent = []\n",
    "for field in df.values:\n",
    "    for text in field[1]:\n",
    "        intent.append({'intent':field[0], 'caption':preprocessing(text)})\n",
    "df = pd.DataFrame(intent)\n",
    "df.head()"
   ]
  },
  {
   "cell_type": "code",
   "execution_count": 371,
   "metadata": {},
   "outputs": [
    {
     "name": "stdout",
     "output_type": "stream",
     "text": [
      "SelfAware, Greeting, WhoAmI, PodBayDoor, TimeQuery, Gossip, PodBayDoorResponse, NotTalking2U, Thanks, Clever, GreetingResponse, Swearing, Jokes, NameQuery, CourtesyGoodBye, Shutup, RealNameQuery, GoodBye, CourtesyGreetingResponse, CurrentHumanQuery, CourtesyGreeting, UnderstandQuery\n"
     ]
    }
   ],
   "source": [
    "print(', '.join(set(df['intent'])))"
   ]
  },
  {
   "cell_type": "code",
   "execution_count": 333,
   "metadata": {},
   "outputs": [
    {
     "data": {
      "text/plain": [
       "0            hi \n",
       "1       hi ther \n",
       "2           hol \n",
       "3         hello \n",
       "4    hello ther \n",
       "Name: caption, dtype: object"
      ]
     },
     "execution_count": 333,
     "metadata": {},
     "output_type": "execute_result"
    }
   ],
   "source": [
    "from nltk.stem import LancasterStemmer\n",
    "stemmer = LancasterStemmer()\n",
    "df['caption'] = df['caption'].apply(stemSentence)\n",
    "df['caption'].head()"
   ]
  },
  {
   "cell_type": "code",
   "execution_count": 334,
   "metadata": {},
   "outputs": [],
   "source": [
    "from keras.preprocessing.text import Tokenizer\n",
    "tokenizer = Tokenizer(filters='', oov_token='<unk>')\n",
    "tokenizer.fit_on_texts(df['caption'])"
   ]
  },
  {
   "cell_type": "code",
   "execution_count": 335,
   "metadata": {},
   "outputs": [
    {
     "name": "stdout",
     "output_type": "stream",
     "text": [
      "117 36\n"
     ]
    }
   ],
   "source": [
    "vocab_size = len(tokenizer.word_index)+1\n",
    "maxlen = len(max(df['caption'], key = len))\n",
    "print(vocab_size, maxlen)"
   ]
  },
  {
   "cell_type": "code",
   "execution_count": 336,
   "metadata": {},
   "outputs": [
    {
     "data": {
      "text/plain": [
       "(143, 36)"
      ]
     },
     "execution_count": 336,
     "metadata": {},
     "output_type": "execute_result"
    }
   ],
   "source": [
    "from keras.preprocessing.sequence import pad_sequences\n",
    "encoded = tokenizer.texts_to_sequences(df['caption'])\n",
    "padded = pad_sequences(encoded, maxlen = maxlen, padding = \"pre\")\n",
    "padded.shape"
   ]
  },
  {
   "cell_type": "code",
   "execution_count": 337,
   "metadata": {},
   "outputs": [
    {
     "data": {
      "text/plain": [
       "(143, 22)"
      ]
     },
     "execution_count": 337,
     "metadata": {},
     "output_type": "execute_result"
    }
   ],
   "source": [
    "from sklearn.preprocessing import LabelEncoder\n",
    "from sklearn.preprocessing import OneHotEncoder\n",
    "ohe = OneHotEncoder()\n",
    "intents = le.fit_transform(df['intent'])\n",
    "intents = intents.reshape(-1,1)\n",
    "intents = ohe.fit_transform(intents).toarray()\n",
    "intents.shape"
   ]
  },
  {
   "cell_type": "code",
   "execution_count": 339,
   "metadata": {},
   "outputs": [
    {
     "name": "stdout",
     "output_type": "stream",
     "text": [
      "(114, 36) (114, 22)\n",
      "(29, 36) (29, 22)\n"
     ]
    }
   ],
   "source": [
    "from sklearn.model_selection import train_test_split\n",
    "train_X, test_X, train_Y, test_Y = train_test_split(padded, intents, test_size = 0.2)\n",
    "print(train_X.shape, train_Y.shape)\n",
    "print(test_X.shape, test_Y.shape)"
   ]
  },
  {
   "cell_type": "code",
   "execution_count": 362,
   "metadata": {},
   "outputs": [
    {
     "name": "stdout",
     "output_type": "stream",
     "text": [
      "Model: \"sequential_21\"\n",
      "_________________________________________________________________\n",
      "Layer (type)                 Output Shape              Param #   \n",
      "=================================================================\n",
      "embedding_25 (Embedding)     (None, None, 512)         59904     \n",
      "_________________________________________________________________\n",
      "bidirectional_19 (Bidirectio (None, 256)               656384    \n",
      "_________________________________________________________________\n",
      "dense_35 (Dense)             (None, 128)               32896     \n",
      "_________________________________________________________________\n",
      "dropout_18 (Dropout)         (None, 128)               0         \n",
      "_________________________________________________________________\n",
      "dense_36 (Dense)             (None, 22)                2838      \n",
      "=================================================================\n",
      "Total params: 752,022\n",
      "Trainable params: 752,022\n",
      "Non-trainable params: 0\n",
      "_________________________________________________________________\n"
     ]
    }
   ],
   "source": [
    "from keras.models import Sequential, load_model\n",
    "from keras.layers import Dense, LSTM, Bidirectional, Embedding, Dropout\n",
    "model = Sequential()\n",
    "model.add(Embedding(vocab_size, 512))\n",
    "model.add(Bidirectional(LSTM(128)))\n",
    "model.add(Dense(128, activation = \"relu\"))\n",
    "model.add(Dropout(0.5))\n",
    "model.add(Dense(22, activation = \"softmax\"))\n",
    "model.compile(loss = \"categorical_crossentropy\", optimizer = \"adam\", metrics = [\"accuracy\"])\n",
    "model.summary()"
   ]
  },
  {
   "cell_type": "code",
   "execution_count": 363,
   "metadata": {},
   "outputs": [
    {
     "name": "stdout",
     "output_type": "stream",
     "text": [
      "Epoch 1/50\n",
      "4/4 [==============================] - 2s 624ms/step - loss: 3.0975 - accuracy: 0.0439 - val_loss: 3.0706 - val_accuracy: 0.0345\n",
      "Epoch 2/50\n",
      "4/4 [==============================] - 1s 220ms/step - loss: 3.0794 - accuracy: 0.0965 - val_loss: 3.0622 - val_accuracy: 0.0345\n",
      "Epoch 3/50\n",
      "4/4 [==============================] - 1s 239ms/step - loss: 3.0589 - accuracy: 0.0877 - val_loss: 3.0386 - val_accuracy: 0.1724\n",
      "Epoch 4/50\n",
      "4/4 [==============================] - 1s 245ms/step - loss: 3.0207 - accuracy: 0.1404 - val_loss: 3.0117 - val_accuracy: 0.2414\n",
      "Epoch 5/50\n",
      "4/4 [==============================] - 1s 248ms/step - loss: 3.0060 - accuracy: 0.1754 - val_loss: 2.9780 - val_accuracy: 0.3793\n",
      "Epoch 6/50\n",
      "4/4 [==============================] - 1s 241ms/step - loss: 2.9544 - accuracy: 0.1930 - val_loss: 2.9416 - val_accuracy: 0.2759\n",
      "Epoch 7/50\n",
      "4/4 [==============================] - 1s 192ms/step - loss: 2.9014 - accuracy: 0.2193 - val_loss: 2.8845 - val_accuracy: 0.3103\n",
      "Epoch 8/50\n",
      "4/4 [==============================] - 1s 220ms/step - loss: 2.8476 - accuracy: 0.2193 - val_loss: 2.7699 - val_accuracy: 0.3793\n",
      "Epoch 9/50\n",
      "4/4 [==============================] - 1s 213ms/step - loss: 2.6878 - accuracy: 0.2544 - val_loss: 2.6265 - val_accuracy: 0.3448\n",
      "Epoch 10/50\n",
      "4/4 [==============================] - 1s 226ms/step - loss: 2.5573 - accuracy: 0.3158 - val_loss: 2.4159 - val_accuracy: 0.5862\n",
      "Epoch 11/50\n",
      "4/4 [==============================] - 1s 223ms/step - loss: 2.3379 - accuracy: 0.4211 - val_loss: 2.2651 - val_accuracy: 0.4828\n",
      "Epoch 12/50\n",
      "4/4 [==============================] - 1s 243ms/step - loss: 2.2388 - accuracy: 0.3421 - val_loss: 2.1014 - val_accuracy: 0.6552\n",
      "Epoch 13/50\n",
      "4/4 [==============================] - 1s 224ms/step - loss: 2.0445 - accuracy: 0.4825 - val_loss: 1.9082 - val_accuracy: 0.5517\n",
      "Epoch 14/50\n",
      "4/4 [==============================] - 1s 256ms/step - loss: 1.8993 - accuracy: 0.4298 - val_loss: 1.6553 - val_accuracy: 0.7586\n",
      "Epoch 15/50\n",
      "4/4 [==============================] - 1s 214ms/step - loss: 1.7226 - accuracy: 0.4474 - val_loss: 1.5411 - val_accuracy: 0.7241\n",
      "Epoch 16/50\n",
      "4/4 [==============================] - 1s 214ms/step - loss: 1.6204 - accuracy: 0.5439 - val_loss: 1.4226 - val_accuracy: 0.7241\n",
      "Epoch 17/50\n",
      "4/4 [==============================] - 1s 217ms/step - loss: 1.4787 - accuracy: 0.5965 - val_loss: 1.3015 - val_accuracy: 0.6897\n",
      "Epoch 18/50\n",
      "4/4 [==============================] - 1s 224ms/step - loss: 1.3577 - accuracy: 0.5965 - val_loss: 1.1824 - val_accuracy: 0.7931\n",
      "Epoch 19/50\n",
      "4/4 [==============================] - 1s 240ms/step - loss: 1.1962 - accuracy: 0.6667 - val_loss: 1.0560 - val_accuracy: 0.8276\n",
      "Epoch 20/50\n",
      "4/4 [==============================] - 1s 221ms/step - loss: 0.9998 - accuracy: 0.7105 - val_loss: 0.9625 - val_accuracy: 0.7586\n",
      "Epoch 21/50\n",
      "4/4 [==============================] - 1s 213ms/step - loss: 0.8548 - accuracy: 0.7456 - val_loss: 0.9612 - val_accuracy: 0.7586\n",
      "Epoch 22/50\n",
      "4/4 [==============================] - 1s 210ms/step - loss: 0.7914 - accuracy: 0.7632 - val_loss: 0.8570 - val_accuracy: 0.7931\n",
      "Epoch 23/50\n",
      "4/4 [==============================] - 1s 207ms/step - loss: 0.9213 - accuracy: 0.7632 - val_loss: 0.7568 - val_accuracy: 0.8276\n",
      "Epoch 24/50\n",
      "4/4 [==============================] - 1s 219ms/step - loss: 0.5840 - accuracy: 0.8421 - val_loss: 0.7023 - val_accuracy: 0.8276\n",
      "Epoch 25/50\n",
      "4/4 [==============================] - 1s 238ms/step - loss: 0.6822 - accuracy: 0.8333 - val_loss: 0.6385 - val_accuracy: 0.8621\n",
      "Epoch 26/50\n",
      "4/4 [==============================] - 1s 212ms/step - loss: 0.5174 - accuracy: 0.8947 - val_loss: 0.6479 - val_accuracy: 0.8276\n",
      "Epoch 27/50\n",
      "4/4 [==============================] - 1s 231ms/step - loss: 0.3874 - accuracy: 0.9386 - val_loss: 0.5983 - val_accuracy: 0.8276\n",
      "Epoch 28/50\n",
      "4/4 [==============================] - 1s 214ms/step - loss: 0.4222 - accuracy: 0.9035 - val_loss: 0.5676 - val_accuracy: 0.8276\n",
      "Epoch 29/50\n",
      "4/4 [==============================] - 1s 332ms/step - loss: 0.2751 - accuracy: 0.9474 - val_loss: 0.5531 - val_accuracy: 0.8276\n",
      "Epoch 30/50\n",
      "4/4 [==============================] - 1s 334ms/step - loss: 0.3156 - accuracy: 0.9386 - val_loss: 0.5309 - val_accuracy: 0.8276\n",
      "Epoch 31/50\n",
      "4/4 [==============================] - 1s 281ms/step - loss: 0.2858 - accuracy: 0.9474 - val_loss: 0.5865 - val_accuracy: 0.7931\n",
      "Epoch 32/50\n",
      "4/4 [==============================] - 1s 181ms/step - loss: 0.2203 - accuracy: 0.9737 - val_loss: 0.5113 - val_accuracy: 0.8276\n",
      "Epoch 33/50\n",
      "4/4 [==============================] - 1s 211ms/step - loss: 0.2250 - accuracy: 0.9561 - val_loss: 0.4332 - val_accuracy: 0.8276\n",
      "Epoch 34/50\n",
      "4/4 [==============================] - 1s 233ms/step - loss: 0.2464 - accuracy: 0.9561 - val_loss: 0.4708 - val_accuracy: 0.8276\n",
      "Epoch 35/50\n",
      "4/4 [==============================] - 1s 185ms/step - loss: 0.1955 - accuracy: 0.9561 - val_loss: 0.5169 - val_accuracy: 0.7931\n",
      "Epoch 36/50\n",
      "4/4 [==============================] - 1s 216ms/step - loss: 0.1671 - accuracy: 0.9649 - val_loss: 0.5137 - val_accuracy: 0.8276\n",
      "Epoch 37/50\n",
      "4/4 [==============================] - 1s 196ms/step - loss: 0.2073 - accuracy: 0.9561 - val_loss: 0.4537 - val_accuracy: 0.8276\n",
      "Epoch 38/50\n",
      "4/4 [==============================] - 1s 342ms/step - loss: 0.1237 - accuracy: 0.9649 - val_loss: 0.4081 - val_accuracy: 0.8276\n",
      "Epoch 39/50\n",
      "4/4 [==============================] - 1s 353ms/step - loss: 0.1253 - accuracy: 0.9912 - val_loss: 0.4590 - val_accuracy: 0.8276\n",
      "Epoch 40/50\n",
      "4/4 [==============================] - 1s 333ms/step - loss: 0.1074 - accuracy: 1.0000 - val_loss: 0.4706 - val_accuracy: 0.8276\n",
      "Epoch 41/50\n",
      "4/4 [==============================] - 1s 311ms/step - loss: 0.1025 - accuracy: 0.9912 - val_loss: 0.5014 - val_accuracy: 0.8276\n",
      "Epoch 42/50\n",
      "4/4 [==============================] - 1s 284ms/step - loss: 0.1212 - accuracy: 0.9825 - val_loss: 0.4856 - val_accuracy: 0.8276\n",
      "Epoch 43/50\n",
      "4/4 [==============================] - 1s 250ms/step - loss: 0.0814 - accuracy: 1.0000 - val_loss: 0.4896 - val_accuracy: 0.8621\n",
      "Epoch 44/50\n",
      "4/4 [==============================] - 1s 236ms/step - loss: 0.0796 - accuracy: 0.9825 - val_loss: 0.4400 - val_accuracy: 0.8621\n",
      "Epoch 45/50\n",
      "4/4 [==============================] - 1s 230ms/step - loss: 0.0592 - accuracy: 1.0000 - val_loss: 0.4416 - val_accuracy: 0.8276\n",
      "Epoch 46/50\n",
      "4/4 [==============================] - 1s 360ms/step - loss: 0.0612 - accuracy: 1.0000 - val_loss: 0.3887 - val_accuracy: 0.8621\n",
      "Epoch 47/50\n",
      "4/4 [==============================] - 1s 323ms/step - loss: 0.0883 - accuracy: 1.0000 - val_loss: 0.4051 - val_accuracy: 0.8966\n",
      "Epoch 48/50\n",
      "4/4 [==============================] - 1s 214ms/step - loss: 0.0742 - accuracy: 0.9912 - val_loss: 0.4551 - val_accuracy: 0.8966\n",
      "Epoch 49/50\n",
      "4/4 [==============================] - 1s 280ms/step - loss: 0.0649 - accuracy: 0.9912 - val_loss: 0.4561 - val_accuracy: 0.8621\n",
      "Epoch 50/50\n",
      "4/4 [==============================] - 1s 316ms/step - loss: 0.0473 - accuracy: 1.0000 - val_loss: 0.4358 - val_accuracy: 0.8621\n"
     ]
    }
   ],
   "source": [
    "from keras.callbacks import ModelCheckpoint\n",
    "history = model.fit(train_X, train_Y,\n",
    "                    epochs = 50, \n",
    "                    validation_data=(test_X, test_Y), \n",
    "                    batch_size=32)"
   ]
  },
  {
   "cell_type": "code",
   "execution_count": 364,
   "metadata": {},
   "outputs": [
    {
     "data": {
      "image/png": "[encoded data removed]",
      "text/plain": [
       "<Figure size 432x288 with 1 Axes>"
      ]
     },
     "metadata": {
      "needs_background": "light"
     },
     "output_type": "display_data"
    },
    {
     "data": {
      "image/png": "[encoded data removed]",
      "text/plain": [
       "<Figure size 432x288 with 1 Axes>"
      ]
     },
     "metadata": {
      "needs_background": "light"
     },
     "output_type": "display_data"
    }
   ],
   "source": [
    "import matplotlib.pyplot as plt\n",
    "\n",
    "\n",
    "def plot_graphs(history, string):\n",
    "  plt.plot(history.history[string])\n",
    "  plt.plot(history.history['val_'+string])\n",
    "  plt.xlabel(\"Epochs\")\n",
    "  plt.ylabel(string)\n",
    "  plt.legend([string, 'val_'+string])\n",
    "  plt.show()\n",
    "  \n",
    "plot_graphs(history, \"accuracy\")\n",
    "plot_graphs(history, \"loss\")"
   ]
  },
  {
   "cell_type": "code",
   "execution_count": 382,
   "metadata": {},
   "outputs": [
    {
     "name": "stdout",
     "output_type": "stream",
     "text": [
      "Enter message: what is your name?\n"
     ]
    },
    {
     "name": "stderr",
     "output_type": "stream",
     "text": [
      "/usr/local/lib/python3.8/site-packages/sklearn/utils/validation.py:63: DataConversionWarning: A column-vector y was passed when a 1d array was expected. Please change the shape of y to (n_samples, ), for example using ravel().\n",
      "  return f(*args, **kwargs)\n"
     ]
    },
    {
     "data": {
      "text/plain": [
       "'NameQuery'"
      ]
     },
     "execution_count": 382,
     "metadata": {},
     "output_type": "execute_result"
    }
   ],
   "source": [
    "message = input(\"Enter message: \")\n",
    "stemmed = stemSentence(message)\n",
    "encoded = tokenizer.texts_to_sequences([stemmed])\n",
    "padded = pad_sequences(encoded, maxlen=maxlen, padding=\"pre\")\n",
    "result = ohe.inverse_transform(model(padded))\n",
    "le.inverse_transform(result)[0]"
   ]
  },
  {
   "cell_type": "code",
   "execution_count": null,
   "metadata": {},
   "outputs": [],
   "source": []
  }
 ],
 "metadata": {
  "kernelspec": {
   "display_name": "Python 3",
   "language": "python",
   "name": "python3"
  },
  "language_info": {
   "codemirror_mode": {
    "name": "ipython",
    "version": 3
   },
   "file_extension": ".py",
   "mimetype": "text/x-python",
   "name": "python",
   "nbconvert_exporter": "python",
   "pygments_lexer": "ipython3",
   "version": "3.8.8"
  }
 },
 "nbformat": 4,
 "nbformat_minor": 4
}
