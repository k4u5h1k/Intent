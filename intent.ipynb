{
 "cells": [
  {
   "cell_type": "code",
   "execution_count": 1,
   "metadata": {},
   "outputs": [],
   "source": [
    "from nltk.tokenize import sent_tokenize, word_tokenize\n",
    "from nltk.stem import LancasterStemmer\n",
    "stemmer = LancasterStemmer()\n",
    "\n",
    "def stemSentence(sentence):\n",
    "    token_words=word_tokenize(sentence)\n",
    "    token_words\n",
    "    stem_sentence=[]\n",
    "    for word in token_words:\n",
    "        stem_sentence.append(stemmer.stem(word))\n",
    "        stem_sentence.append(\" \")\n",
    "    return \"\".join(stem_sentence)"
   ]
  },
  {
   "cell_type": "code",
   "execution_count": 2,
   "metadata": {},
   "outputs": [],
   "source": [
    "import re\n",
    "def preprocessing(line):\n",
    "    line = re.sub(r'[^a-zA-z.?!\\']', ' ', line)\n",
    "    line = re.sub(r'[ ]+', ' ', line)\n",
    "    return line"
   ]
  },
  {
   "cell_type": "code",
   "execution_count": 4,
   "metadata": {},
   "outputs": [
    {
     "data": {
      "text/html": [
       "<div>\n",
       "<style scoped>\n",
       "    .dataframe tbody tr th:only-of-type {\n",
       "        vertical-align: middle;\n",
       "    }\n",
       "\n",
       "    .dataframe tbody tr th {\n",
       "        vertical-align: top;\n",
       "    }\n",
       "\n",
       "    .dataframe thead th {\n",
       "        text-align: right;\n",
       "    }\n",
       "</style>\n",
       "<table border=\"1\" class=\"dataframe\">\n",
       "  <thead>\n",
       "    <tr style=\"text-align: right;\">\n",
       "      <th></th>\n",
       "      <th>intent</th>\n",
       "      <th>text</th>\n",
       "      <th>responses</th>\n",
       "      <th>extension</th>\n",
       "      <th>context</th>\n",
       "      <th>entityType</th>\n",
       "      <th>entities</th>\n",
       "    </tr>\n",
       "  </thead>\n",
       "  <tbody>\n",
       "    <tr>\n",
       "      <th>0</th>\n",
       "      <td>Greeting</td>\n",
       "      <td>[Hi, Hi there, Hola, Hello, Hello there, Hya, ...</td>\n",
       "      <td>[Hi human, please tell me your GeniSys user, H...</td>\n",
       "      <td>{'function': '', 'entities': False, 'responses...</td>\n",
       "      <td>{'in': '', 'out': 'GreetingUserRequest', 'clea...</td>\n",
       "      <td>NA</td>\n",
       "      <td>[]</td>\n",
       "    </tr>\n",
       "    <tr>\n",
       "      <th>1</th>\n",
       "      <td>GreetingResponse</td>\n",
       "      <td>[My user is Adam, This is Adam, I am Adam, It ...</td>\n",
       "      <td>[Great! Hi &lt;HUMAN&gt;! How can I help?, Good! Hi ...</td>\n",
       "      <td>{'function': 'extensions.gHumans.updateHuman',...</td>\n",
       "      <td>{'in': 'GreetingUserRequest', 'out': '', 'clea...</td>\n",
       "      <td>NA</td>\n",
       "      <td>[{'entity': 'HUMAN', 'rangeFrom': 3, 'rangeTo'...</td>\n",
       "    </tr>\n",
       "    <tr>\n",
       "      <th>2</th>\n",
       "      <td>CourtesyGreeting</td>\n",
       "      <td>[How are you?, Hi how are you?, Hello how are ...</td>\n",
       "      <td>[Hello, I am great, how are you? Please tell m...</td>\n",
       "      <td>{'function': '', 'entities': False, 'responses...</td>\n",
       "      <td>{'in': '', 'out': 'CourtesyGreetingUserRequest...</td>\n",
       "      <td>NA</td>\n",
       "      <td>[]</td>\n",
       "    </tr>\n",
       "    <tr>\n",
       "      <th>3</th>\n",
       "      <td>CourtesyGreetingResponse</td>\n",
       "      <td>[Good thanks! My user is Adam, Good thanks! Th...</td>\n",
       "      <td>[Great! Hi &lt;HUMAN&gt;! How can I help?, Good! Hi ...</td>\n",
       "      <td>{'function': 'extensions.gHumans.updateHuman',...</td>\n",
       "      <td>{'in': 'GreetingUserRequest', 'out': '', 'clea...</td>\n",
       "      <td>NA</td>\n",
       "      <td>[{'entity': 'HUMAN', 'rangeFrom': 5, 'rangeTo'...</td>\n",
       "    </tr>\n",
       "    <tr>\n",
       "      <th>4</th>\n",
       "      <td>CurrentHumanQuery</td>\n",
       "      <td>[What is my name?, What do you call me?, Who d...</td>\n",
       "      <td>[You are &lt;HUMAN&gt;! How can I help?, Your name i...</td>\n",
       "      <td>{'function': 'extensions.gHumans.getCurrentHum...</td>\n",
       "      <td>{'in': '', 'out': 'CurrentHumanQuery', 'clear'...</td>\n",
       "      <td>NA</td>\n",
       "      <td>[]</td>\n",
       "    </tr>\n",
       "  </tbody>\n",
       "</table>\n",
       "</div>"
      ],
      "text/plain": [
       "                     intent  \\\n",
       "0                  Greeting   \n",
       "1          GreetingResponse   \n",
       "2          CourtesyGreeting   \n",
       "3  CourtesyGreetingResponse   \n",
       "4         CurrentHumanQuery   \n",
       "\n",
       "                                                text  \\\n",
       "0  [Hi, Hi there, Hola, Hello, Hello there, Hya, ...   \n",
       "1  [My user is Adam, This is Adam, I am Adam, It ...   \n",
       "2  [How are you?, Hi how are you?, Hello how are ...   \n",
       "3  [Good thanks! My user is Adam, Good thanks! Th...   \n",
       "4  [What is my name?, What do you call me?, Who d...   \n",
       "\n",
       "                                           responses  \\\n",
       "0  [Hi human, please tell me your GeniSys user, H...   \n",
       "1  [Great! Hi <HUMAN>! How can I help?, Good! Hi ...   \n",
       "2  [Hello, I am great, how are you? Please tell m...   \n",
       "3  [Great! Hi <HUMAN>! How can I help?, Good! Hi ...   \n",
       "4  [You are <HUMAN>! How can I help?, Your name i...   \n",
       "\n",
       "                                           extension  \\\n",
       "0  {'function': '', 'entities': False, 'responses...   \n",
       "1  {'function': 'extensions.gHumans.updateHuman',...   \n",
       "2  {'function': '', 'entities': False, 'responses...   \n",
       "3  {'function': 'extensions.gHumans.updateHuman',...   \n",
       "4  {'function': 'extensions.gHumans.getCurrentHum...   \n",
       "\n",
       "                                             context entityType  \\\n",
       "0  {'in': '', 'out': 'GreetingUserRequest', 'clea...         NA   \n",
       "1  {'in': 'GreetingUserRequest', 'out': '', 'clea...         NA   \n",
       "2  {'in': '', 'out': 'CourtesyGreetingUserRequest...         NA   \n",
       "3  {'in': 'GreetingUserRequest', 'out': '', 'clea...         NA   \n",
       "4  {'in': '', 'out': 'CurrentHumanQuery', 'clear'...         NA   \n",
       "\n",
       "                                            entities  \n",
       "0                                                 []  \n",
       "1  [{'entity': 'HUMAN', 'rangeFrom': 3, 'rangeTo'...  \n",
       "2                                                 []  \n",
       "3  [{'entity': 'HUMAN', 'rangeFrom': 5, 'rangeTo'...  \n",
       "4                                                 []  "
      ]
     },
     "execution_count": 4,
     "metadata": {},
     "output_type": "execute_result"
    }
   ],
   "source": [
    "import pandas as pd\n",
    "df = pd.read_json('./intent.json')\n",
    "df.head()"
   ]
  },
  {
   "cell_type": "code",
   "execution_count": 5,
   "metadata": {},
   "outputs": [
    {
     "data": {
      "text/html": [
       "<div>\n",
       "<style scoped>\n",
       "    .dataframe tbody tr th:only-of-type {\n",
       "        vertical-align: middle;\n",
       "    }\n",
       "\n",
       "    .dataframe tbody tr th {\n",
       "        vertical-align: top;\n",
       "    }\n",
       "\n",
       "    .dataframe thead th {\n",
       "        text-align: right;\n",
       "    }\n",
       "</style>\n",
       "<table border=\"1\" class=\"dataframe\">\n",
       "  <thead>\n",
       "    <tr style=\"text-align: right;\">\n",
       "      <th></th>\n",
       "      <th>intent</th>\n",
       "      <th>caption</th>\n",
       "    </tr>\n",
       "  </thead>\n",
       "  <tbody>\n",
       "    <tr>\n",
       "      <th>0</th>\n",
       "      <td>Greeting</td>\n",
       "      <td>Hi</td>\n",
       "    </tr>\n",
       "    <tr>\n",
       "      <th>1</th>\n",
       "      <td>Greeting</td>\n",
       "      <td>Hi there</td>\n",
       "    </tr>\n",
       "    <tr>\n",
       "      <th>2</th>\n",
       "      <td>Greeting</td>\n",
       "      <td>Hola</td>\n",
       "    </tr>\n",
       "    <tr>\n",
       "      <th>3</th>\n",
       "      <td>Greeting</td>\n",
       "      <td>Hello</td>\n",
       "    </tr>\n",
       "    <tr>\n",
       "      <th>4</th>\n",
       "      <td>Greeting</td>\n",
       "      <td>Hello there</td>\n",
       "    </tr>\n",
       "  </tbody>\n",
       "</table>\n",
       "</div>"
      ],
      "text/plain": [
       "     intent      caption\n",
       "0  Greeting           Hi\n",
       "1  Greeting     Hi there\n",
       "2  Greeting         Hola\n",
       "3  Greeting        Hello\n",
       "4  Greeting  Hello there"
      ]
     },
     "execution_count": 5,
     "metadata": {},
     "output_type": "execute_result"
    }
   ],
   "source": [
    "intent = []\n",
    "for field in df.values:\n",
    "    for text in field[1]:\n",
    "        intent.append({'intent':field[0], 'caption':preprocessing(text)})\n",
    "df = pd.DataFrame(intent)\n",
    "df.head()"
   ]
  },
  {
   "cell_type": "code",
   "execution_count": 6,
   "metadata": {},
   "outputs": [
    {
     "name": "stdout",
     "output_type": "stream",
     "text": [
      "CourtesyGreeting, CurrentHumanQuery, WhoAmI, Clever, CourtesyGoodBye, RealNameQuery, NotTalking2U, SelfAware, Jokes, Shutup, Greeting, GreetingResponse, Gossip, UnderstandQuery, GoodBye, TimeQuery, PodBayDoorResponse, Swearing, PodBayDoor, CourtesyGreetingResponse, Thanks, NameQuery\n"
     ]
    }
   ],
   "source": [
    "print(', '.join(set(df['intent'])))"
   ]
  },
  {
   "cell_type": "code",
   "execution_count": 7,
   "metadata": {},
   "outputs": [
    {
     "data": {
      "text/plain": [
       "0            hi \n",
       "1       hi ther \n",
       "2           hol \n",
       "3         hello \n",
       "4    hello ther \n",
       "Name: caption, dtype: object"
      ]
     },
     "execution_count": 7,
     "metadata": {},
     "output_type": "execute_result"
    }
   ],
   "source": [
    "from nltk.stem import LancasterStemmer\n",
    "stemmer = LancasterStemmer()\n",
    "df['caption'] = df['caption'].apply(stemSentence)\n",
    "df['caption'].head()"
   ]
  },
  {
   "cell_type": "code",
   "execution_count": 8,
   "metadata": {},
   "outputs": [],
   "source": [
    "from keras.preprocessing.text import Tokenizer\n",
    "tokenizer = Tokenizer(filters='', oov_token='<unk>')\n",
    "tokenizer.fit_on_texts(df['caption'])"
   ]
  },
  {
   "cell_type": "code",
   "execution_count": 9,
   "metadata": {},
   "outputs": [
    {
     "name": "stdout",
     "output_type": "stream",
     "text": [
      "117 36\n"
     ]
    }
   ],
   "source": [
    "vocab_size = len(tokenizer.word_index)+1\n",
    "maxlen = len(max(df['caption'], key = len))\n",
    "print(vocab_size, maxlen)"
   ]
  },
  {
   "cell_type": "code",
   "execution_count": 10,
   "metadata": {},
   "outputs": [
    {
     "data": {
      "text/plain": [
       "(143, 36)"
      ]
     },
     "execution_count": 10,
     "metadata": {},
     "output_type": "execute_result"
    }
   ],
   "source": [
    "from keras.preprocessing.sequence import pad_sequences\n",
    "encoded = tokenizer.texts_to_sequences(df['caption'])\n",
    "padded = pad_sequences(encoded, maxlen = maxlen, padding = \"pre\")\n",
    "padded.shape"
   ]
  },
  {
   "cell_type": "code",
   "execution_count": 15,
   "metadata": {},
   "outputs": [
    {
     "data": {
      "text/plain": [
       "(143, 22)"
      ]
     },
     "execution_count": 15,
     "metadata": {},
     "output_type": "execute_result"
    }
   ],
   "source": [
    "from sklearn.preprocessing import LabelEncoder\n",
    "from sklearn.preprocessing import OneHotEncoder\n",
    "ohe = OneHotEncoder()\n",
    "le = LabelEncoder()\n",
    "intents = le.fit_transform(df['intent'])\n",
    "intents = intents.reshape(-1,1)\n",
    "intents = ohe.fit_transform(intents).toarray()\n",
    "intents.shape"
   ]
  },
  {
   "cell_type": "code",
   "execution_count": 16,
   "metadata": {},
   "outputs": [
    {
     "name": "stdout",
     "output_type": "stream",
     "text": [
      "(114, 36) (114, 22)\n",
      "(29, 36) (29, 22)\n"
     ]
    }
   ],
   "source": [
    "from sklearn.model_selection import train_test_split\n",
    "train_X, test_X, train_Y, test_Y = train_test_split(padded, intents, test_size = 0.2)\n",
    "print(train_X.shape, train_Y.shape)\n",
    "print(test_X.shape, test_Y.shape)"
   ]
  },
  {
   "cell_type": "code",
   "execution_count": 48,
   "metadata": {},
   "outputs": [
    {
     "name": "stdout",
     "output_type": "stream",
     "text": [
      "Model: \"sequential_2\"\n",
      "_________________________________________________________________\n",
      "Layer (type)                 Output Shape              Param #   \n",
      "=================================================================\n",
      "embedding_2 (Embedding)      (None, None, 512)         59904     \n",
      "_________________________________________________________________\n",
      "bidirectional_2 (Bidirection (None, 256)               656384    \n",
      "_________________________________________________________________\n",
      "dense_4 (Dense)              (None, 128)               32896     \n",
      "_________________________________________________________________\n",
      "dropout_2 (Dropout)          (None, 128)               0         \n",
      "_________________________________________________________________\n",
      "dense_5 (Dense)              (None, 22)                2838      \n",
      "=================================================================\n",
      "Total params: 752,022\n",
      "Trainable params: 752,022\n",
      "Non-trainable params: 0\n",
      "_________________________________________________________________\n"
     ]
    }
   ],
   "source": [
    "from keras.models import Sequential, load_model\n",
    "from keras.layers import Dense, LSTM, Bidirectional, Embedding, Dropout\n",
    "model = Sequential()\n",
    "model.add(Embedding(vocab_size, 512))\n",
    "model.add(Bidirectional(LSTM(128)))\n",
    "model.add(Dense(128, activation = \"relu\"))\n",
    "model.add(Dropout(0.5))\n",
    "model.add(Dense(22, activation = \"softmax\"))\n",
    "model.compile(loss = \"categorical_crossentropy\", optimizer = \"adam\", metrics = [\"accuracy\"])\n",
    "model.summary()"
   ]
  },
  {
   "cell_type": "code",
   "execution_count": 49,
   "metadata": {},
   "outputs": [
    {
     "name": "stdout",
     "output_type": "stream",
     "text": [
      "Epoch 1/50\n",
      "4/4 [==============================] - 1s 343ms/step - loss: 3.1024 - accuracy: 0.0439 - val_loss: 3.0786 - val_accuracy: 0.0690\n",
      "Epoch 2/50\n",
      "4/4 [==============================] - 1s 137ms/step - loss: 3.0743 - accuracy: 0.0614 - val_loss: 3.0759 - val_accuracy: 0.1379\n",
      "Epoch 3/50\n",
      "4/4 [==============================] - 1s 131ms/step - loss: 3.0502 - accuracy: 0.0965 - val_loss: 3.0653 - val_accuracy: 0.1724\n",
      "Epoch 4/50\n",
      "4/4 [==============================] - 1s 131ms/step - loss: 3.0011 - accuracy: 0.1667 - val_loss: 3.0509 - val_accuracy: 0.1379\n",
      "Epoch 5/50\n",
      "4/4 [==============================] - 1s 132ms/step - loss: 2.9606 - accuracy: 0.2105 - val_loss: 3.0274 - val_accuracy: 0.1379\n",
      "Epoch 6/50\n",
      "4/4 [==============================] - 1s 139ms/step - loss: 2.9209 - accuracy: 0.1754 - val_loss: 2.9693 - val_accuracy: 0.1724\n",
      "Epoch 7/50\n",
      "4/4 [==============================] - 1s 141ms/step - loss: 2.8326 - accuracy: 0.2193 - val_loss: 2.9111 - val_accuracy: 0.1724\n",
      "Epoch 8/50\n",
      "4/4 [==============================] - 1s 138ms/step - loss: 2.7707 - accuracy: 0.2719 - val_loss: 2.8149 - val_accuracy: 0.0690\n",
      "Epoch 9/50\n",
      "4/4 [==============================] - 1s 138ms/step - loss: 2.6471 - accuracy: 0.2632 - val_loss: 2.6533 - val_accuracy: 0.3448\n",
      "Epoch 10/50\n",
      "4/4 [==============================] - 1s 138ms/step - loss: 2.3782 - accuracy: 0.3860 - val_loss: 2.4807 - val_accuracy: 0.3448\n",
      "Epoch 11/50\n",
      "4/4 [==============================] - 1s 144ms/step - loss: 2.2545 - accuracy: 0.3509 - val_loss: 2.3731 - val_accuracy: 0.3448\n",
      "Epoch 12/50\n",
      "4/4 [==============================] - 1s 137ms/step - loss: 2.1167 - accuracy: 0.3684 - val_loss: 2.2815 - val_accuracy: 0.2759\n",
      "Epoch 13/50\n",
      "4/4 [==============================] - 1s 135ms/step - loss: 1.9189 - accuracy: 0.4474 - val_loss: 2.1020 - val_accuracy: 0.4828\n",
      "Epoch 14/50\n",
      "4/4 [==============================] - 1s 133ms/step - loss: 1.7521 - accuracy: 0.5000 - val_loss: 2.0060 - val_accuracy: 0.5172\n",
      "Epoch 15/50\n",
      "4/4 [==============================] - 1s 145ms/step - loss: 1.5592 - accuracy: 0.5614 - val_loss: 1.7940 - val_accuracy: 0.5172\n",
      "Epoch 16/50\n",
      "4/4 [==============================] - 1s 129ms/step - loss: 1.3837 - accuracy: 0.6140 - val_loss: 1.6441 - val_accuracy: 0.5862\n",
      "Epoch 17/50\n",
      "4/4 [==============================] - 1s 132ms/step - loss: 1.3227 - accuracy: 0.6667 - val_loss: 1.5922 - val_accuracy: 0.5517\n",
      "Epoch 18/50\n",
      "4/4 [==============================] - 1s 139ms/step - loss: 1.0763 - accuracy: 0.7368 - val_loss: 1.4537 - val_accuracy: 0.6207\n",
      "Epoch 19/50\n",
      "4/4 [==============================] - 1s 134ms/step - loss: 0.9463 - accuracy: 0.7719 - val_loss: 1.4540 - val_accuracy: 0.5862\n",
      "Epoch 20/50\n",
      "4/4 [==============================] - 1s 132ms/step - loss: 0.9090 - accuracy: 0.7368 - val_loss: 1.3127 - val_accuracy: 0.6552\n",
      "Epoch 21/50\n",
      "4/4 [==============================] - 1s 132ms/step - loss: 0.6930 - accuracy: 0.8509 - val_loss: 1.3303 - val_accuracy: 0.6207\n",
      "Epoch 22/50\n",
      "4/4 [==============================] - 1s 133ms/step - loss: 0.7356 - accuracy: 0.8246 - val_loss: 1.1706 - val_accuracy: 0.7586\n",
      "Epoch 23/50\n",
      "4/4 [==============================] - 1s 134ms/step - loss: 0.6328 - accuracy: 0.8421 - val_loss: 1.1215 - val_accuracy: 0.7241\n",
      "Epoch 24/50\n",
      "4/4 [==============================] - 1s 132ms/step - loss: 0.6099 - accuracy: 0.8684 - val_loss: 1.0625 - val_accuracy: 0.7241\n",
      "Epoch 25/50\n",
      "4/4 [==============================] - 1s 132ms/step - loss: 0.5680 - accuracy: 0.8509 - val_loss: 1.0736 - val_accuracy: 0.6897\n",
      "Epoch 26/50\n",
      "4/4 [==============================] - 1s 132ms/step - loss: 0.5065 - accuracy: 0.9123 - val_loss: 1.1030 - val_accuracy: 0.7241\n",
      "Epoch 27/50\n",
      "4/4 [==============================] - 1s 132ms/step - loss: 0.4244 - accuracy: 0.9035 - val_loss: 1.0582 - val_accuracy: 0.6897\n",
      "Epoch 28/50\n",
      "4/4 [==============================] - 1s 135ms/step - loss: 0.3120 - accuracy: 0.9649 - val_loss: 1.0547 - val_accuracy: 0.7241\n",
      "Epoch 29/50\n",
      "4/4 [==============================] - 1s 138ms/step - loss: 0.3239 - accuracy: 0.9211 - val_loss: 1.0109 - val_accuracy: 0.7586\n",
      "Epoch 30/50\n",
      "4/4 [==============================] - 1s 218ms/step - loss: 0.2580 - accuracy: 0.9561 - val_loss: 1.0471 - val_accuracy: 0.7241\n",
      "Epoch 31/50\n",
      "4/4 [==============================] - 1s 175ms/step - loss: 0.2406 - accuracy: 0.9561 - val_loss: 1.0418 - val_accuracy: 0.7586\n",
      "Epoch 32/50\n",
      "4/4 [==============================] - 1s 171ms/step - loss: 0.2310 - accuracy: 0.9474 - val_loss: 0.9867 - val_accuracy: 0.7241\n",
      "Epoch 33/50\n",
      "4/4 [==============================] - 1s 149ms/step - loss: 0.2503 - accuracy: 0.9474 - val_loss: 1.0154 - val_accuracy: 0.7586\n",
      "Epoch 34/50\n",
      "4/4 [==============================] - 1s 135ms/step - loss: 0.1849 - accuracy: 0.9649 - val_loss: 1.0173 - val_accuracy: 0.7586\n",
      "Epoch 35/50\n",
      "4/4 [==============================] - 1s 137ms/step - loss: 0.1572 - accuracy: 0.9649 - val_loss: 0.9568 - val_accuracy: 0.7586\n",
      "Epoch 36/50\n",
      "4/4 [==============================] - 1s 140ms/step - loss: 0.1203 - accuracy: 0.9912 - val_loss: 0.9242 - val_accuracy: 0.7586\n",
      "Epoch 37/50\n",
      "4/4 [==============================] - 1s 142ms/step - loss: 0.1644 - accuracy: 0.9649 - val_loss: 0.9881 - val_accuracy: 0.7586\n",
      "Epoch 38/50\n",
      "4/4 [==============================] - 1s 135ms/step - loss: 0.1428 - accuracy: 0.9825 - val_loss: 1.0610 - val_accuracy: 0.7241\n",
      "Epoch 39/50\n",
      "4/4 [==============================] - 1s 141ms/step - loss: 0.1202 - accuracy: 0.9912 - val_loss: 1.0739 - val_accuracy: 0.7241\n",
      "Epoch 40/50\n",
      "4/4 [==============================] - 1s 135ms/step - loss: 0.1255 - accuracy: 0.9825 - val_loss: 1.0066 - val_accuracy: 0.7586\n",
      "Epoch 41/50\n",
      "4/4 [==============================] - 1s 139ms/step - loss: 0.0835 - accuracy: 0.9912 - val_loss: 0.9882 - val_accuracy: 0.7586\n",
      "Epoch 42/50\n",
      "4/4 [==============================] - 1s 138ms/step - loss: 0.1072 - accuracy: 0.9825 - val_loss: 1.0138 - val_accuracy: 0.7586\n",
      "Epoch 43/50\n",
      "4/4 [==============================] - 1s 140ms/step - loss: 0.0908 - accuracy: 1.0000 - val_loss: 1.0059 - val_accuracy: 0.7241\n",
      "Epoch 44/50\n",
      "4/4 [==============================] - 1s 138ms/step - loss: 0.0688 - accuracy: 1.0000 - val_loss: 1.0005 - val_accuracy: 0.7241\n",
      "Epoch 45/50\n",
      "4/4 [==============================] - 1s 151ms/step - loss: 0.0829 - accuracy: 1.0000 - val_loss: 1.0348 - val_accuracy: 0.7586\n",
      "Epoch 46/50\n",
      "4/4 [==============================] - 1s 195ms/step - loss: 0.0558 - accuracy: 1.0000 - val_loss: 1.0568 - val_accuracy: 0.7586\n",
      "Epoch 47/50\n",
      "4/4 [==============================] - 1s 166ms/step - loss: 0.0637 - accuracy: 0.9912 - val_loss: 1.0498 - val_accuracy: 0.7586\n",
      "Epoch 48/50\n",
      "4/4 [==============================] - 1s 192ms/step - loss: 0.0586 - accuracy: 1.0000 - val_loss: 1.0698 - val_accuracy: 0.7586\n",
      "Epoch 49/50\n",
      "4/4 [==============================] - 1s 133ms/step - loss: 0.0466 - accuracy: 1.0000 - val_loss: 1.1050 - val_accuracy: 0.7241\n",
      "Epoch 50/50\n",
      "4/4 [==============================] - 1s 235ms/step - loss: 0.0368 - accuracy: 1.0000 - val_loss: 1.1399 - val_accuracy: 0.7241\n"
     ]
    }
   ],
   "source": [
    "from keras.callbacks import ModelCheckpoint\n",
    "history = model.fit(train_X, train_Y,\n",
    "                    epochs = 50, \n",
    "                    validation_data=(test_X, test_Y), \n",
    "                    batch_size=32)"
   ]
  },
  {
   "cell_type": "code",
   "execution_count": 50,
   "metadata": {},
   "outputs": [
    {
     "data": {
      "image/png": "[encoded data removed]",
      "text/plain": [
       "<Figure size 432x288 with 1 Axes>"
      ]
     },
     "metadata": {
      "needs_background": "light"
     },
     "output_type": "display_data"
    },
    {
     "data": {
      "image/png": "[encoded data removed]",
      "text/plain": [
       "<Figure size 432x288 with 1 Axes>"
      ]
     },
     "metadata": {
      "needs_background": "light"
     },
     "output_type": "display_data"
    }
   ],
   "source": [
    "import matplotlib.pyplot as plt\n",
    "\n",
    "\n",
    "def plot_graphs(history, string):\n",
    "  plt.plot(history.history[string])\n",
    "  plt.plot(history.history['val_'+string])\n",
    "  plt.xlabel(\"Epochs\")\n",
    "  plt.ylabel(string)\n",
    "  plt.legend([string, 'val_'+string])\n",
    "  plt.show()\n",
    "  \n",
    "plot_graphs(history, \"accuracy\")\n",
    "plot_graphs(history, \"loss\")"
   ]
  },
  {
   "cell_type": "code",
   "execution_count": 51,
   "metadata": {},
   "outputs": [],
   "source": [
    "import warnings\n",
    "from sklearn.exceptions import DataConversionWarning\n",
    "warnings.filterwarnings(action='ignore', category=DataConversionWarning)"
   ]
  },
  {
   "cell_type": "code",
   "execution_count": 52,
   "metadata": {},
   "outputs": [
    {
     "name": "stdout",
     "output_type": "stream",
     "text": [
      "Enter message: hello how are you doing today\n"
     ]
    },
    {
     "data": {
      "text/plain": [
       "'CourtesyGreeting'"
      ]
     },
     "execution_count": 52,
     "metadata": {},
     "output_type": "execute_result"
    }
   ],
   "source": [
    "message = input(\"Enter message: \")\n",
    "stemmed = stemSentence(message)\n",
    "encoded = tokenizer.texts_to_sequences([stemmed])\n",
    "padded = pad_sequences(encoded, maxlen=maxlen, padding=\"pre\")\n",
    "result = ohe.inverse_transform(model(padded))\n",
    "le.inverse_transform(result)[0]"
   ]
  }
 ],
 "metadata": {
  "kernelspec": {
   "display_name": "Python 3",
   "language": "python",
   "name": "python3"
  },
  "language_info": {
   "codemirror_mode": {
    "name": "ipython",
    "version": 3
   },
   "file_extension": ".py",
   "mimetype": "text/x-python",
   "name": "python",
   "nbconvert_exporter": "python",
   "pygments_lexer": "ipython3",
   "version": "3.8.8"
  }
 },
 "nbformat": 4,
 "nbformat_minor": 4
}
