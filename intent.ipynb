{
 "cells": [
  {
   "cell_type": "code",
   "execution_count": 28,
   "metadata": {},
   "outputs": [],
   "source": [
    "from nltk.tokenize import sent_tokenize, word_tokenize\n",
    "from nltk.stem import LancasterStemmer\n",
    "stemmer = LancasterStemmer()\n",
    "\n",
    "def stemSentence(sentence):\n",
    "    token_words=word_tokenize(sentence)\n",
    "    token_words\n",
    "    stem_sentence=[]\n",
    "    for word in token_words:\n",
    "        stem_sentence.append(stemmer.stem(word).lower())\n",
    "        stem_sentence.append(\" \")\n",
    "    return \"\".join(stem_sentence)"
   ]
  },
  {
   "cell_type": "code",
   "execution_count": 29,
   "metadata": {},
   "outputs": [],
   "source": [
    "import re\n",
    "def preprocessing(line):\n",
    "    line = re.sub(r'[^a-zA-z.?!\\']', ' ', line)\n",
    "    line = re.sub(r'[ ]+', ' ', line)\n",
    "    return line"
   ]
  },
  {
   "cell_type": "code",
   "execution_count": 30,
   "metadata": {},
   "outputs": [
    {
     "data": {
      "text/html": [
       "<div>\n",
       "<style scoped>\n",
       "    .dataframe tbody tr th:only-of-type {\n",
       "        vertical-align: middle;\n",
       "    }\n",
       "\n",
       "    .dataframe tbody tr th {\n",
       "        vertical-align: top;\n",
       "    }\n",
       "\n",
       "    .dataframe thead th {\n",
       "        text-align: right;\n",
       "    }\n",
       "</style>\n",
       "<table border=\"1\" class=\"dataframe\">\n",
       "  <thead>\n",
       "    <tr style=\"text-align: right;\">\n",
       "      <th></th>\n",
       "      <th>intent</th>\n",
       "      <th>text</th>\n",
       "      <th>responses</th>\n",
       "      <th>extension</th>\n",
       "      <th>context</th>\n",
       "      <th>entityType</th>\n",
       "      <th>entities</th>\n",
       "    </tr>\n",
       "  </thead>\n",
       "  <tbody>\n",
       "    <tr>\n",
       "      <th>0</th>\n",
       "      <td>Greeting</td>\n",
       "      <td>[Hi, Hi there, Hola, Hello, Hello there, Hya, ...</td>\n",
       "      <td>[Hi human, please tell me your GeniSys user, H...</td>\n",
       "      <td>{'function': '', 'entities': False, 'responses...</td>\n",
       "      <td>{'in': '', 'out': 'GreetingUserRequest', 'clea...</td>\n",
       "      <td>NA</td>\n",
       "      <td>[]</td>\n",
       "    </tr>\n",
       "    <tr>\n",
       "      <th>1</th>\n",
       "      <td>GreetingResponse</td>\n",
       "      <td>[My user is Adam, This is Adam, I am Adam, It ...</td>\n",
       "      <td>[Great! Hi &lt;HUMAN&gt;! How can I help?, Good! Hi ...</td>\n",
       "      <td>{'function': 'extensions.gHumans.updateHuman',...</td>\n",
       "      <td>{'in': 'GreetingUserRequest', 'out': '', 'clea...</td>\n",
       "      <td>NA</td>\n",
       "      <td>[{'entity': 'HUMAN', 'rangeFrom': 3, 'rangeTo'...</td>\n",
       "    </tr>\n",
       "    <tr>\n",
       "      <th>2</th>\n",
       "      <td>CourtesyGreeting</td>\n",
       "      <td>[How are you?, Hi how are you?, Hello how are ...</td>\n",
       "      <td>[Hello, I am great, how are you? Please tell m...</td>\n",
       "      <td>{'function': '', 'entities': False, 'responses...</td>\n",
       "      <td>{'in': '', 'out': 'CourtesyGreetingUserRequest...</td>\n",
       "      <td>NA</td>\n",
       "      <td>[]</td>\n",
       "    </tr>\n",
       "    <tr>\n",
       "      <th>3</th>\n",
       "      <td>CourtesyGreetingResponse</td>\n",
       "      <td>[Good thanks! My user is Adam, Good thanks! Th...</td>\n",
       "      <td>[Great! Hi &lt;HUMAN&gt;! How can I help?, Good! Hi ...</td>\n",
       "      <td>{'function': 'extensions.gHumans.updateHuman',...</td>\n",
       "      <td>{'in': 'GreetingUserRequest', 'out': '', 'clea...</td>\n",
       "      <td>NA</td>\n",
       "      <td>[{'entity': 'HUMAN', 'rangeFrom': 5, 'rangeTo'...</td>\n",
       "    </tr>\n",
       "    <tr>\n",
       "      <th>4</th>\n",
       "      <td>CurrentHumanQuery</td>\n",
       "      <td>[What is my name?, What do you call me?, Who d...</td>\n",
       "      <td>[You are &lt;HUMAN&gt;! How can I help?, Your name i...</td>\n",
       "      <td>{'function': 'extensions.gHumans.getCurrentHum...</td>\n",
       "      <td>{'in': '', 'out': 'CurrentHumanQuery', 'clear'...</td>\n",
       "      <td>NA</td>\n",
       "      <td>[]</td>\n",
       "    </tr>\n",
       "  </tbody>\n",
       "</table>\n",
       "</div>"
      ],
      "text/plain": [
       "                     intent  \\\n",
       "0                  Greeting   \n",
       "1          GreetingResponse   \n",
       "2          CourtesyGreeting   \n",
       "3  CourtesyGreetingResponse   \n",
       "4         CurrentHumanQuery   \n",
       "\n",
       "                                                text  \\\n",
       "0  [Hi, Hi there, Hola, Hello, Hello there, Hya, ...   \n",
       "1  [My user is Adam, This is Adam, I am Adam, It ...   \n",
       "2  [How are you?, Hi how are you?, Hello how are ...   \n",
       "3  [Good thanks! My user is Adam, Good thanks! Th...   \n",
       "4  [What is my name?, What do you call me?, Who d...   \n",
       "\n",
       "                                           responses  \\\n",
       "0  [Hi human, please tell me your GeniSys user, H...   \n",
       "1  [Great! Hi <HUMAN>! How can I help?, Good! Hi ...   \n",
       "2  [Hello, I am great, how are you? Please tell m...   \n",
       "3  [Great! Hi <HUMAN>! How can I help?, Good! Hi ...   \n",
       "4  [You are <HUMAN>! How can I help?, Your name i...   \n",
       "\n",
       "                                           extension  \\\n",
       "0  {'function': '', 'entities': False, 'responses...   \n",
       "1  {'function': 'extensions.gHumans.updateHuman',...   \n",
       "2  {'function': '', 'entities': False, 'responses...   \n",
       "3  {'function': 'extensions.gHumans.updateHuman',...   \n",
       "4  {'function': 'extensions.gHumans.getCurrentHum...   \n",
       "\n",
       "                                             context entityType  \\\n",
       "0  {'in': '', 'out': 'GreetingUserRequest', 'clea...         NA   \n",
       "1  {'in': 'GreetingUserRequest', 'out': '', 'clea...         NA   \n",
       "2  {'in': '', 'out': 'CourtesyGreetingUserRequest...         NA   \n",
       "3  {'in': 'GreetingUserRequest', 'out': '', 'clea...         NA   \n",
       "4  {'in': '', 'out': 'CurrentHumanQuery', 'clear'...         NA   \n",
       "\n",
       "                                            entities  \n",
       "0                                                 []  \n",
       "1  [{'entity': 'HUMAN', 'rangeFrom': 3, 'rangeTo'...  \n",
       "2                                                 []  \n",
       "3  [{'entity': 'HUMAN', 'rangeFrom': 5, 'rangeTo'...  \n",
       "4                                                 []  "
      ]
     },
     "execution_count": 30,
     "metadata": {},
     "output_type": "execute_result"
    }
   ],
   "source": [
    "import pandas as pd\n",
    "df = pd.read_json('./intent.json')\n",
    "df.head()"
   ]
  },
  {
   "cell_type": "code",
   "execution_count": 31,
   "metadata": {},
   "outputs": [
    {
     "data": {
      "text/html": [
       "<div>\n",
       "<style scoped>\n",
       "    .dataframe tbody tr th:only-of-type {\n",
       "        vertical-align: middle;\n",
       "    }\n",
       "\n",
       "    .dataframe tbody tr th {\n",
       "        vertical-align: top;\n",
       "    }\n",
       "\n",
       "    .dataframe thead th {\n",
       "        text-align: right;\n",
       "    }\n",
       "</style>\n",
       "<table border=\"1\" class=\"dataframe\">\n",
       "  <thead>\n",
       "    <tr style=\"text-align: right;\">\n",
       "      <th></th>\n",
       "      <th>intent</th>\n",
       "      <th>caption</th>\n",
       "    </tr>\n",
       "  </thead>\n",
       "  <tbody>\n",
       "    <tr>\n",
       "      <th>0</th>\n",
       "      <td>Greeting</td>\n",
       "      <td>Hi</td>\n",
       "    </tr>\n",
       "    <tr>\n",
       "      <th>1</th>\n",
       "      <td>Greeting</td>\n",
       "      <td>Hi there</td>\n",
       "    </tr>\n",
       "    <tr>\n",
       "      <th>2</th>\n",
       "      <td>Greeting</td>\n",
       "      <td>Hola</td>\n",
       "    </tr>\n",
       "    <tr>\n",
       "      <th>3</th>\n",
       "      <td>Greeting</td>\n",
       "      <td>Hello</td>\n",
       "    </tr>\n",
       "    <tr>\n",
       "      <th>4</th>\n",
       "      <td>Greeting</td>\n",
       "      <td>Hello there</td>\n",
       "    </tr>\n",
       "  </tbody>\n",
       "</table>\n",
       "</div>"
      ],
      "text/plain": [
       "     intent      caption\n",
       "0  Greeting           Hi\n",
       "1  Greeting     Hi there\n",
       "2  Greeting         Hola\n",
       "3  Greeting        Hello\n",
       "4  Greeting  Hello there"
      ]
     },
     "execution_count": 31,
     "metadata": {},
     "output_type": "execute_result"
    }
   ],
   "source": [
    "intent = []\n",
    "for field in df.values:\n",
    "    for text in field[1]:\n",
    "        intent.append({'intent':field[0], 'caption':preprocessing(text)})\n",
    "df = pd.DataFrame(intent)\n",
    "df.head()"
   ]
  },
  {
   "cell_type": "code",
   "execution_count": 32,
   "metadata": {},
   "outputs": [
    {
     "name": "stdout",
     "output_type": "stream",
     "text": [
      "SelfAware, Shutup, CourtesyGoodBye, Jokes, NotTalking2U, CourtesyGreeting, Swearing, UnderstandQuery, RealNameQuery, GoodBye, Thanks, TimeQuery, Gossip, Clever, CurrentHumanQuery, PodBayDoor, CourtesyGreetingResponse, WhoAmI, GreetingResponse, PodBayDoorResponse, NameQuery, Greeting\n"
     ]
    }
   ],
   "source": [
    "print(', '.join(set(df['intent'])))"
   ]
  },
  {
   "cell_type": "code",
   "execution_count": 33,
   "metadata": {},
   "outputs": [
    {
     "data": {
      "text/plain": [
       "0            hi \n",
       "1       hi ther \n",
       "2           hol \n",
       "3         hello \n",
       "4    hello ther \n",
       "Name: caption, dtype: object"
      ]
     },
     "execution_count": 33,
     "metadata": {},
     "output_type": "execute_result"
    }
   ],
   "source": [
    "from nltk.stem import LancasterStemmer\n",
    "stemmer = LancasterStemmer()\n",
    "df['caption'] = df['caption'].apply(stemSentence)\n",
    "df['caption'].head()"
   ]
  },
  {
   "cell_type": "code",
   "execution_count": 34,
   "metadata": {},
   "outputs": [],
   "source": [
    "from keras.preprocessing.text import Tokenizer\n",
    "tokenizer = Tokenizer(filters='', oov_token='<unk>')\n",
    "tokenizer.fit_on_texts(df['caption'])"
   ]
  },
  {
   "cell_type": "code",
   "execution_count": 35,
   "metadata": {},
   "outputs": [
    {
     "name": "stdout",
     "output_type": "stream",
     "text": [
      "117 36\n"
     ]
    }
   ],
   "source": [
    "vocab_size = len(tokenizer.word_index)+1\n",
    "maxlen = len(max(df['caption'], key = len))\n",
    "print(vocab_size, maxlen)"
   ]
  },
  {
   "cell_type": "code",
   "execution_count": 36,
   "metadata": {},
   "outputs": [
    {
     "data": {
      "text/plain": [
       "(143, 36)"
      ]
     },
     "execution_count": 36,
     "metadata": {},
     "output_type": "execute_result"
    }
   ],
   "source": [
    "from keras.preprocessing.sequence import pad_sequences\n",
    "encoded = tokenizer.texts_to_sequences(df['caption'])\n",
    "padded = pad_sequences(encoded, maxlen = maxlen, padding = \"pre\")\n",
    "padded.shape"
   ]
  },
  {
   "cell_type": "code",
   "execution_count": 37,
   "metadata": {},
   "outputs": [
    {
     "data": {
      "text/plain": [
       "(143, 22)"
      ]
     },
     "execution_count": 37,
     "metadata": {},
     "output_type": "execute_result"
    }
   ],
   "source": [
    "from sklearn.preprocessing import LabelEncoder\n",
    "from sklearn.preprocessing import OneHotEncoder\n",
    "ohe = OneHotEncoder()\n",
    "le = LabelEncoder()\n",
    "intents = le.fit_transform(df['intent'])\n",
    "intents = intents.reshape(-1,1)\n",
    "intents = ohe.fit_transform(intents).toarray()\n",
    "intents.shape"
   ]
  },
  {
   "cell_type": "code",
   "execution_count": 38,
   "metadata": {},
   "outputs": [
    {
     "name": "stdout",
     "output_type": "stream",
     "text": [
      "(121, 36) (121, 22)\n",
      "(22, 36) (22, 22)\n"
     ]
    }
   ],
   "source": [
    "from sklearn.model_selection import train_test_split\n",
    "train_X, test_X, train_Y, test_Y = train_test_split(padded, intents, test_size = 0.15)\n",
    "print(train_X.shape, train_Y.shape)\n",
    "print(test_X.shape, test_Y.shape)"
   ]
  },
  {
   "cell_type": "code",
   "execution_count": 39,
   "metadata": {},
   "outputs": [
    {
     "name": "stdout",
     "output_type": "stream",
     "text": [
      "Model: \"sequential_2\"\n",
      "_________________________________________________________________\n",
      "Layer (type)                 Output Shape              Param #   \n",
      "=================================================================\n",
      "embedding_2 (Embedding)      (None, None, 512)         59904     \n",
      "_________________________________________________________________\n",
      "bidirectional_2 (Bidirection (None, 256)               656384    \n",
      "_________________________________________________________________\n",
      "dropout_2 (Dropout)          (None, 256)               0         \n",
      "_________________________________________________________________\n",
      "dense_2 (Dense)              (None, 22)                5654      \n",
      "=================================================================\n",
      "Total params: 721,942\n",
      "Trainable params: 721,942\n",
      "Non-trainable params: 0\n",
      "_________________________________________________________________\n"
     ]
    }
   ],
   "source": [
    "from keras.models import Sequential, load_model\n",
    "from keras.layers import Dense, LSTM, Bidirectional, Embedding, Dropout\n",
    "model = Sequential()\n",
    "model.add(Embedding(vocab_size, 512))\n",
    "model.add(Bidirectional(LSTM(128)))\n",
    "model.add(Dropout(0.5))\n",
    "model.add(Dense(22, activation = \"softmax\"))\n",
    "model.compile(loss = \"categorical_crossentropy\", optimizer = \"adam\", metrics = [\"accuracy\"])\n",
    "model.summary()"
   ]
  },
  {
   "cell_type": "code",
   "execution_count": 40,
   "metadata": {},
   "outputs": [
    {
     "name": "stdout",
     "output_type": "stream",
     "text": [
      "Epoch 1/50\n",
      "4/4 [==============================] - ETA: 0s - loss: 3.1024 - accuracy: 0.0826\n",
      "Epoch 00001: val_accuracy improved from -inf to 0.18182, saving model to weights.best.hdf5\n",
      "4/4 [==============================] - 3s 694ms/step - loss: 3.1024 - accuracy: 0.0826 - val_loss: 3.1119 - val_accuracy: 0.1818\n",
      "Epoch 2/50\n",
      "4/4 [==============================] - ETA: 0s - loss: 3.0455 - accuracy: 0.0909\n",
      "Epoch 00002: val_accuracy did not improve from 0.18182\n",
      "4/4 [==============================] - 1s 230ms/step - loss: 3.0455 - accuracy: 0.0909 - val_loss: 3.1319 - val_accuracy: 0.0909\n",
      "Epoch 3/50\n",
      "4/4 [==============================] - ETA: 0s - loss: 3.0091 - accuracy: 0.1405\n",
      "Epoch 00003: val_accuracy did not improve from 0.18182\n",
      "4/4 [==============================] - 1s 141ms/step - loss: 3.0091 - accuracy: 0.1405 - val_loss: 3.1319 - val_accuracy: 0.0909\n",
      "Epoch 4/50\n",
      "4/4 [==============================] - ETA: 0s - loss: 2.9634 - accuracy: 0.2397\n",
      "Epoch 00004: val_accuracy did not improve from 0.18182\n",
      "4/4 [==============================] - 1s 165ms/step - loss: 2.9634 - accuracy: 0.2397 - val_loss: 3.1072 - val_accuracy: 0.0455\n",
      "Epoch 5/50\n",
      "4/4 [==============================] - ETA: 0s - loss: 2.9181 - accuracy: 0.2479\n",
      "Epoch 00005: val_accuracy did not improve from 0.18182\n",
      "4/4 [==============================] - 1s 147ms/step - loss: 2.9181 - accuracy: 0.2479 - val_loss: 3.0942 - val_accuracy: 0.0455\n",
      "Epoch 6/50\n",
      "4/4 [==============================] - ETA: 0s - loss: 2.8447 - accuracy: 0.3140\n",
      "Epoch 00006: val_accuracy did not improve from 0.18182\n",
      "4/4 [==============================] - 1s 179ms/step - loss: 2.8447 - accuracy: 0.3140 - val_loss: 3.0714 - val_accuracy: 0.1364\n",
      "Epoch 7/50\n",
      "4/4 [==============================] - ETA: 0s - loss: 2.7410 - accuracy: 0.3471\n",
      "Epoch 00007: val_accuracy did not improve from 0.18182\n",
      "4/4 [==============================] - 1s 222ms/step - loss: 2.7410 - accuracy: 0.3471 - val_loss: 3.0574 - val_accuracy: 0.1364\n",
      "Epoch 8/50\n",
      "4/4 [==============================] - ETA: 0s - loss: 2.6336 - accuracy: 0.3636\n",
      "Epoch 00008: val_accuracy did not improve from 0.18182\n",
      "4/4 [==============================] - 1s 215ms/step - loss: 2.6336 - accuracy: 0.3636 - val_loss: 2.9466 - val_accuracy: 0.1364\n",
      "Epoch 9/50\n",
      "4/4 [==============================] - ETA: 0s - loss: 2.4634 - accuracy: 0.4298\n",
      "Epoch 00009: val_accuracy improved from 0.18182 to 0.22727, saving model to weights.best.hdf5\n",
      "4/4 [==============================] - 1s 211ms/step - loss: 2.4634 - accuracy: 0.4298 - val_loss: 2.8053 - val_accuracy: 0.2273\n",
      "Epoch 10/50\n",
      "4/4 [==============================] - ETA: 0s - loss: 2.2414 - accuracy: 0.5207\n",
      "Epoch 00010: val_accuracy improved from 0.22727 to 0.27273, saving model to weights.best.hdf5\n",
      "4/4 [==============================] - 1s 188ms/step - loss: 2.2414 - accuracy: 0.5207 - val_loss: 2.7056 - val_accuracy: 0.2727\n",
      "Epoch 11/50\n",
      "4/4 [==============================] - ETA: 0s - loss: 2.1525 - accuracy: 0.4711\n",
      "Epoch 00011: val_accuracy improved from 0.27273 to 0.45455, saving model to weights.best.hdf5\n",
      "4/4 [==============================] - 1s 207ms/step - loss: 2.1525 - accuracy: 0.4711 - val_loss: 2.4684 - val_accuracy: 0.4545\n",
      "Epoch 12/50\n",
      "4/4 [==============================] - ETA: 0s - loss: 1.8975 - accuracy: 0.5289\n",
      "Epoch 00012: val_accuracy did not improve from 0.45455\n",
      "4/4 [==============================] - 1s 217ms/step - loss: 1.8975 - accuracy: 0.5289 - val_loss: 2.2875 - val_accuracy: 0.4545\n",
      "Epoch 13/50\n",
      "4/4 [==============================] - ETA: 0s - loss: 1.6843 - accuracy: 0.6446\n",
      "Epoch 00013: val_accuracy improved from 0.45455 to 0.50000, saving model to weights.best.hdf5\n",
      "4/4 [==============================] - 1s 207ms/step - loss: 1.6843 - accuracy: 0.6446 - val_loss: 2.2315 - val_accuracy: 0.5000\n",
      "Epoch 14/50\n",
      "4/4 [==============================] - ETA: 0s - loss: 1.5254 - accuracy: 0.5950\n",
      "Epoch 00014: val_accuracy did not improve from 0.50000\n",
      "4/4 [==============================] - 1s 207ms/step - loss: 1.5254 - accuracy: 0.5950 - val_loss: 1.9777 - val_accuracy: 0.5000\n",
      "Epoch 15/50\n",
      "4/4 [==============================] - ETA: 0s - loss: 1.3306 - accuracy: 0.7107\n",
      "Epoch 00015: val_accuracy did not improve from 0.50000\n",
      "4/4 [==============================] - 1s 184ms/step - loss: 1.3306 - accuracy: 0.7107 - val_loss: 1.8524 - val_accuracy: 0.5000\n",
      "Epoch 16/50\n",
      "4/4 [==============================] - ETA: 0s - loss: 1.1588 - accuracy: 0.7273\n",
      "Epoch 00016: val_accuracy did not improve from 0.50000\n",
      "4/4 [==============================] - 1s 161ms/step - loss: 1.1588 - accuracy: 0.7273 - val_loss: 1.7646 - val_accuracy: 0.5000\n",
      "Epoch 17/50\n",
      "4/4 [==============================] - ETA: 0s - loss: 1.0941 - accuracy: 0.7603\n",
      "Epoch 00017: val_accuracy improved from 0.50000 to 0.59091, saving model to weights.best.hdf5\n",
      "4/4 [==============================] - 1s 156ms/step - loss: 1.0941 - accuracy: 0.7603 - val_loss: 1.5455 - val_accuracy: 0.5909\n",
      "Epoch 18/50\n",
      "4/4 [==============================] - ETA: 0s - loss: 0.9487 - accuracy: 0.8017\n",
      "Epoch 00018: val_accuracy improved from 0.59091 to 0.63636, saving model to weights.best.hdf5\n",
      "4/4 [==============================] - 1s 250ms/step - loss: 0.9487 - accuracy: 0.8017 - val_loss: 1.5000 - val_accuracy: 0.6364\n",
      "Epoch 19/50\n",
      "4/4 [==============================] - ETA: 0s - loss: 0.8862 - accuracy: 0.7851\n",
      "Epoch 00019: val_accuracy did not improve from 0.63636\n",
      "4/4 [==============================] - 1s 193ms/step - loss: 0.8862 - accuracy: 0.7851 - val_loss: 1.3748 - val_accuracy: 0.5455\n",
      "Epoch 20/50\n",
      "4/4 [==============================] - ETA: 0s - loss: 0.7850 - accuracy: 0.8430\n",
      "Epoch 00020: val_accuracy did not improve from 0.63636\n",
      "4/4 [==============================] - 1s 217ms/step - loss: 0.7850 - accuracy: 0.8430 - val_loss: 1.3722 - val_accuracy: 0.5909\n",
      "Epoch 21/50\n",
      "4/4 [==============================] - ETA: 0s - loss: 0.6458 - accuracy: 0.8926\n",
      "Epoch 00021: val_accuracy improved from 0.63636 to 0.68182, saving model to weights.best.hdf5\n",
      "4/4 [==============================] - 1s 167ms/step - loss: 0.6458 - accuracy: 0.8926 - val_loss: 1.2374 - val_accuracy: 0.6818\n",
      "Epoch 22/50\n",
      "4/4 [==============================] - ETA: 0s - loss: 0.6316 - accuracy: 0.8595\n",
      "Epoch 00022: val_accuracy did not improve from 0.68182\n",
      "4/4 [==============================] - 1s 159ms/step - loss: 0.6316 - accuracy: 0.8595 - val_loss: 1.1695 - val_accuracy: 0.5909\n",
      "Epoch 23/50\n",
      "4/4 [==============================] - ETA: 0s - loss: 0.5618 - accuracy: 0.9008\n",
      "Epoch 00023: val_accuracy did not improve from 0.68182\n",
      "4/4 [==============================] - 1s 247ms/step - loss: 0.5618 - accuracy: 0.9008 - val_loss: 1.1072 - val_accuracy: 0.6364\n",
      "Epoch 24/50\n",
      "4/4 [==============================] - ETA: 0s - loss: 0.5148 - accuracy: 0.8926\n",
      "Epoch 00024: val_accuracy did not improve from 0.68182\n",
      "4/4 [==============================] - 1s 258ms/step - loss: 0.5148 - accuracy: 0.8926 - val_loss: 1.2323 - val_accuracy: 0.6818\n",
      "Epoch 25/50\n",
      "4/4 [==============================] - ETA: 0s - loss: 0.4573 - accuracy: 0.8843\n",
      "Epoch 00025: val_accuracy did not improve from 0.68182\n",
      "4/4 [==============================] - 1s 234ms/step - loss: 0.4573 - accuracy: 0.8843 - val_loss: 1.1103 - val_accuracy: 0.6818\n",
      "Epoch 26/50\n",
      "4/4 [==============================] - ETA: 0s - loss: 0.4599 - accuracy: 0.9008\n",
      "Epoch 00026: val_accuracy improved from 0.68182 to 0.77273, saving model to weights.best.hdf5\n",
      "4/4 [==============================] - 1s 239ms/step - loss: 0.4599 - accuracy: 0.9008 - val_loss: 1.0400 - val_accuracy: 0.7727\n",
      "Epoch 27/50\n",
      "4/4 [==============================] - ETA: 0s - loss: 0.3500 - accuracy: 0.9587\n",
      "Epoch 00027: val_accuracy did not improve from 0.77273\n",
      "4/4 [==============================] - 1s 261ms/step - loss: 0.3500 - accuracy: 0.9587 - val_loss: 1.0625 - val_accuracy: 0.6818\n",
      "Epoch 28/50\n",
      "4/4 [==============================] - ETA: 0s - loss: 0.3405 - accuracy: 0.9504\n",
      "Epoch 00028: val_accuracy did not improve from 0.77273\n",
      "4/4 [==============================] - 1s 311ms/step - loss: 0.3405 - accuracy: 0.9504 - val_loss: 0.9296 - val_accuracy: 0.7727\n",
      "Epoch 29/50\n",
      "4/4 [==============================] - ETA: 0s - loss: 0.3075 - accuracy: 0.9587\n",
      "Epoch 00029: val_accuracy did not improve from 0.77273\n",
      "4/4 [==============================] - 1s 219ms/step - loss: 0.3075 - accuracy: 0.9587 - val_loss: 0.9258 - val_accuracy: 0.7727\n"
     ]
    },
    {
     "name": "stdout",
     "output_type": "stream",
     "text": [
      "Epoch 30/50\n",
      "4/4 [==============================] - ETA: 0s - loss: 0.2547 - accuracy: 0.9669\n",
      "Epoch 00030: val_accuracy did not improve from 0.77273\n",
      "4/4 [==============================] - 1s 243ms/step - loss: 0.2547 - accuracy: 0.9669 - val_loss: 0.9802 - val_accuracy: 0.7273\n",
      "Epoch 31/50\n",
      "4/4 [==============================] - ETA: 0s - loss: 0.2426 - accuracy: 0.9835\n",
      "Epoch 00031: val_accuracy improved from 0.77273 to 0.81818, saving model to weights.best.hdf5\n",
      "4/4 [==============================] - 1s 267ms/step - loss: 0.2426 - accuracy: 0.9835 - val_loss: 0.9001 - val_accuracy: 0.8182\n",
      "Epoch 32/50\n",
      "4/4 [==============================] - ETA: 0s - loss: 0.1972 - accuracy: 0.9917\n",
      "Epoch 00032: val_accuracy did not improve from 0.81818\n",
      "4/4 [==============================] - 1s 265ms/step - loss: 0.1972 - accuracy: 0.9917 - val_loss: 0.8446 - val_accuracy: 0.7727\n",
      "Epoch 33/50\n",
      "4/4 [==============================] - ETA: 0s - loss: 0.1979 - accuracy: 0.9835\n",
      "Epoch 00033: val_accuracy did not improve from 0.81818\n",
      "4/4 [==============================] - 1s 263ms/step - loss: 0.1979 - accuracy: 0.9835 - val_loss: 0.8872 - val_accuracy: 0.7727\n",
      "Epoch 34/50\n",
      "4/4 [==============================] - ETA: 0s - loss: 0.1947 - accuracy: 0.9587\n",
      "Epoch 00034: val_accuracy did not improve from 0.81818\n",
      "4/4 [==============================] - 1s 216ms/step - loss: 0.1947 - accuracy: 0.9587 - val_loss: 0.8998 - val_accuracy: 0.7727\n",
      "Epoch 35/50\n",
      "4/4 [==============================] - ETA: 0s - loss: 0.1614 - accuracy: 0.9835\n",
      "Epoch 00035: val_accuracy did not improve from 0.81818\n",
      "4/4 [==============================] - 1s 178ms/step - loss: 0.1614 - accuracy: 0.9835 - val_loss: 0.8591 - val_accuracy: 0.8182\n",
      "Epoch 36/50\n",
      "4/4 [==============================] - ETA: 0s - loss: 0.1359 - accuracy: 1.0000\n",
      "Epoch 00036: val_accuracy did not improve from 0.81818\n",
      "4/4 [==============================] - 1s 196ms/step - loss: 0.1359 - accuracy: 1.0000 - val_loss: 0.8457 - val_accuracy: 0.7727\n",
      "Epoch 37/50\n",
      "4/4 [==============================] - ETA: 0s - loss: 0.1496 - accuracy: 0.9752\n",
      "Epoch 00037: val_accuracy did not improve from 0.81818\n",
      "4/4 [==============================] - 1s 275ms/step - loss: 0.1496 - accuracy: 0.9752 - val_loss: 0.8106 - val_accuracy: 0.7273\n",
      "Epoch 38/50\n",
      "4/4 [==============================] - ETA: 0s - loss: 0.1408 - accuracy: 0.9917\n",
      "Epoch 00038: val_accuracy did not improve from 0.81818\n",
      "4/4 [==============================] - 1s 242ms/step - loss: 0.1408 - accuracy: 0.9917 - val_loss: 0.8144 - val_accuracy: 0.8182\n",
      "Epoch 39/50\n",
      "4/4 [==============================] - ETA: 0s - loss: 0.1405 - accuracy: 1.0000\n",
      "Epoch 00039: val_accuracy did not improve from 0.81818\n",
      "4/4 [==============================] - 1s 301ms/step - loss: 0.1405 - accuracy: 1.0000 - val_loss: 0.8303 - val_accuracy: 0.7273\n",
      "Epoch 40/50\n",
      "4/4 [==============================] - ETA: 0s - loss: 0.1059 - accuracy: 0.9917\n",
      "Epoch 00040: val_accuracy did not improve from 0.81818\n",
      "4/4 [==============================] - 1s 248ms/step - loss: 0.1059 - accuracy: 0.9917 - val_loss: 0.8527 - val_accuracy: 0.8182\n",
      "Epoch 41/50\n",
      "4/4 [==============================] - ETA: 0s - loss: 0.0993 - accuracy: 0.9917\n",
      "Epoch 00041: val_accuracy did not improve from 0.81818\n",
      "4/4 [==============================] - 1s 200ms/step - loss: 0.0993 - accuracy: 0.9917 - val_loss: 0.8340 - val_accuracy: 0.7727\n",
      "Epoch 42/50\n",
      "4/4 [==============================] - ETA: 0s - loss: 0.0893 - accuracy: 1.0000\n",
      "Epoch 00042: val_accuracy did not improve from 0.81818\n",
      "4/4 [==============================] - 1s 240ms/step - loss: 0.0893 - accuracy: 1.0000 - val_loss: 0.7675 - val_accuracy: 0.7727\n",
      "Epoch 43/50\n",
      "4/4 [==============================] - ETA: 0s - loss: 0.0968 - accuracy: 0.9917\n",
      "Epoch 00043: val_accuracy did not improve from 0.81818\n",
      "4/4 [==============================] - 1s 279ms/step - loss: 0.0968 - accuracy: 0.9917 - val_loss: 0.7869 - val_accuracy: 0.7727\n",
      "Epoch 44/50\n",
      "4/4 [==============================] - ETA: 0s - loss: 0.0820 - accuracy: 1.0000\n",
      "Epoch 00044: val_accuracy improved from 0.81818 to 0.86364, saving model to weights.best.hdf5\n",
      "4/4 [==============================] - 1s 254ms/step - loss: 0.0820 - accuracy: 1.0000 - val_loss: 0.8287 - val_accuracy: 0.8636\n",
      "Epoch 45/50\n",
      "4/4 [==============================] - ETA: 0s - loss: 0.0773 - accuracy: 1.0000\n",
      "Epoch 00045: val_accuracy did not improve from 0.86364\n",
      "4/4 [==============================] - 1s 292ms/step - loss: 0.0773 - accuracy: 1.0000 - val_loss: 0.7676 - val_accuracy: 0.8636\n",
      "Epoch 46/50\n",
      "4/4 [==============================] - ETA: 0s - loss: 0.0631 - accuracy: 1.0000\n",
      "Epoch 00046: val_accuracy did not improve from 0.86364\n",
      "4/4 [==============================] - 2s 377ms/step - loss: 0.0631 - accuracy: 1.0000 - val_loss: 0.7577 - val_accuracy: 0.7727\n",
      "Epoch 47/50\n",
      "4/4 [==============================] - ETA: 0s - loss: 0.0740 - accuracy: 1.0000\n",
      "Epoch 00047: val_accuracy did not improve from 0.86364\n",
      "4/4 [==============================] - 1s 197ms/step - loss: 0.0740 - accuracy: 1.0000 - val_loss: 0.7707 - val_accuracy: 0.8182\n",
      "Epoch 48/50\n",
      "4/4 [==============================] - ETA: 0s - loss: 0.0637 - accuracy: 1.0000\n",
      "Epoch 00048: val_accuracy did not improve from 0.86364\n",
      "4/4 [==============================] - 1s 163ms/step - loss: 0.0637 - accuracy: 1.0000 - val_loss: 0.8009 - val_accuracy: 0.7727\n",
      "Epoch 49/50\n",
      "4/4 [==============================] - ETA: 0s - loss: 0.0607 - accuracy: 1.0000\n",
      "Epoch 00049: val_accuracy did not improve from 0.86364\n",
      "4/4 [==============================] - 1s 142ms/step - loss: 0.0607 - accuracy: 1.0000 - val_loss: 0.8147 - val_accuracy: 0.7727\n",
      "Epoch 50/50\n",
      "4/4 [==============================] - ETA: 0s - loss: 0.0525 - accuracy: 1.0000\n",
      "Epoch 00050: val_accuracy did not improve from 0.86364\n",
      "4/4 [==============================] - 1s 220ms/step - loss: 0.0525 - accuracy: 1.0000 - val_loss: 0.7703 - val_accuracy: 0.7727\n"
     ]
    }
   ],
   "source": [
    "from keras.callbacks import EarlyStopping \n",
    "from keras.callbacks import ModelCheckpoint\n",
    "filepath = \"weights.best.hdf5\"\n",
    "cp_callback = ModelCheckpoint(filepath, monitor='val_accuracy', verbose=1, save_best_only=True, mode='max')\n",
    "es_callback = EarlyStopping(monitor='val_loss', patience=5)\n",
    "history = model.fit(train_X, train_Y,\n",
    "                    epochs = 50, \n",
    "                    validation_data=(test_X, test_Y), \n",
    "                    batch_size=32,\n",
    "                    callbacks=[es_callback,cp_callback])"
   ]
  },
  {
   "cell_type": "code",
   "execution_count": 42,
   "metadata": {},
   "outputs": [],
   "source": [
    "model.load_weights(\"weights.best.hdf5\")"
   ]
  },
  {
   "cell_type": "code",
   "execution_count": 44,
   "metadata": {},
   "outputs": [
    {
     "data": {
      "image/png": "[encoded data removed]",
      "text/plain": [
       "<Figure size 432x288 with 1 Axes>"
      ]
     },
     "metadata": {
      "needs_background": "light"
     },
     "output_type": "display_data"
    },
    {
     "data": {
      "image/png": "[encoded data removed]",
      "text/plain": [
       "<Figure size 432x288 with 1 Axes>"
      ]
     },
     "metadata": {
      "needs_background": "light"
     },
     "output_type": "display_data"
    }
   ],
   "source": [
    "import matplotlib.pyplot as plt\n",
    "\n",
    "\n",
    "def plot_graphs(history, string):\n",
    "  plt.plot(history.history[string])\n",
    "  plt.plot(history.history['val_'+string])\n",
    "  plt.xlabel(\"Epochs\")\n",
    "  plt.ylabel(string)\n",
    "  plt.legend([string, 'val_'+string])\n",
    "  plt.show()\n",
    "  \n",
    "plot_graphs(history, \"accuracy\")\n",
    "plot_graphs(history, \"loss\")"
   ]
  },
  {
   "cell_type": "code",
   "execution_count": 45,
   "metadata": {},
   "outputs": [],
   "source": [
    "import warnings\n",
    "from sklearn.exceptions import DataConversionWarning\n",
    "warnings.filterwarnings(action='ignore', category=DataConversionWarning)"
   ]
  },
  {
   "cell_type": "code",
   "execution_count": 46,
   "metadata": {},
   "outputs": [
    {
     "name": "stdout",
     "output_type": "stream",
     "text": [
      "Enter message: What is your name\n"
     ]
    },
    {
     "data": {
      "text/plain": [
       "'NameQuery'"
      ]
     },
     "execution_count": 46,
     "metadata": {},
     "output_type": "execute_result"
    }
   ],
   "source": [
    "message = input(\"Enter message: \")\n",
    "stemmed = stemSentence(message)\n",
    "encoded = tokenizer.texts_to_sequences([stemmed])\n",
    "padded = pad_sequences(encoded, maxlen=maxlen, padding=\"pre\")\n",
    "result = ohe.inverse_transform(model(padded))\n",
    "le.inverse_transform(result)[0]"
   ]
  }
 ],
 "metadata": {
  "kernelspec": {
   "display_name": "Python 3",
   "language": "python",
   "name": "python3"
  },
  "language_info": {
   "codemirror_mode": {
    "name": "ipython",
    "version": 3
   },
   "file_extension": ".py",
   "mimetype": "text/x-python",
   "name": "python",
   "nbconvert_exporter": "python",
   "pygments_lexer": "ipython3",
   "version": "3.8.8"
  }
 },
 "nbformat": 4,
 "nbformat_minor": 4
}
