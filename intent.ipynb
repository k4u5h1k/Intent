{
 "cells": [
  {
   "cell_type": "code",
   "execution_count": 1,
   "metadata": {},
   "outputs": [],
   "source": [
    "from nltk.tokenize import sent_tokenize, word_tokenize\n",
    "from nltk.stem import LancasterStemmer\n",
    "stemmer = LancasterStemmer()\n",
    "\n",
    "def stemSentence(sentence):\n",
    "    token_words=word_tokenize(sentence)\n",
    "    token_words\n",
    "    stem_sentence=[]\n",
    "    for word in token_words:\n",
    "        stem_sentence.append(stemmer.stem(word))\n",
    "        stem_sentence.append(\" \")\n",
    "    return \"\".join(stem_sentence)"
   ]
  },
  {
   "cell_type": "code",
   "execution_count": 2,
   "metadata": {},
   "outputs": [],
   "source": [
    "import re\n",
    "def preprocessing(line):\n",
    "    line = re.sub(r'[^a-zA-z.?!\\']', ' ', line)\n",
    "    line = re.sub(r'[ ]+', ' ', line)\n",
    "    return line"
   ]
  },
  {
   "cell_type": "code",
   "execution_count": 3,
   "metadata": {},
   "outputs": [
    {
     "data": {
      "text/html": [
       "<div>\n",
       "<style scoped>\n",
       "    .dataframe tbody tr th:only-of-type {\n",
       "        vertical-align: middle;\n",
       "    }\n",
       "\n",
       "    .dataframe tbody tr th {\n",
       "        vertical-align: top;\n",
       "    }\n",
       "\n",
       "    .dataframe thead th {\n",
       "        text-align: right;\n",
       "    }\n",
       "</style>\n",
       "<table border=\"1\" class=\"dataframe\">\n",
       "  <thead>\n",
       "    <tr style=\"text-align: right;\">\n",
       "      <th></th>\n",
       "      <th>intent</th>\n",
       "      <th>text</th>\n",
       "      <th>responses</th>\n",
       "      <th>extension</th>\n",
       "      <th>context</th>\n",
       "      <th>entityType</th>\n",
       "      <th>entities</th>\n",
       "    </tr>\n",
       "  </thead>\n",
       "  <tbody>\n",
       "    <tr>\n",
       "      <th>0</th>\n",
       "      <td>Greeting</td>\n",
       "      <td>[Hi, Hi there, Hola, Hello, Hello there, Hya, ...</td>\n",
       "      <td>[Hi human, please tell me your GeniSys user, H...</td>\n",
       "      <td>{'function': '', 'entities': False, 'responses...</td>\n",
       "      <td>{'in': '', 'out': 'GreetingUserRequest', 'clea...</td>\n",
       "      <td>NA</td>\n",
       "      <td>[]</td>\n",
       "    </tr>\n",
       "    <tr>\n",
       "      <th>1</th>\n",
       "      <td>GreetingResponse</td>\n",
       "      <td>[My user is Adam, This is Adam, I am Adam, It ...</td>\n",
       "      <td>[Great! Hi &lt;HUMAN&gt;! How can I help?, Good! Hi ...</td>\n",
       "      <td>{'function': 'extensions.gHumans.updateHuman',...</td>\n",
       "      <td>{'in': 'GreetingUserRequest', 'out': '', 'clea...</td>\n",
       "      <td>NA</td>\n",
       "      <td>[{'entity': 'HUMAN', 'rangeFrom': 3, 'rangeTo'...</td>\n",
       "    </tr>\n",
       "    <tr>\n",
       "      <th>2</th>\n",
       "      <td>CourtesyGreeting</td>\n",
       "      <td>[How are you?, Hi how are you?, Hello how are ...</td>\n",
       "      <td>[Hello, I am great, how are you? Please tell m...</td>\n",
       "      <td>{'function': '', 'entities': False, 'responses...</td>\n",
       "      <td>{'in': '', 'out': 'CourtesyGreetingUserRequest...</td>\n",
       "      <td>NA</td>\n",
       "      <td>[]</td>\n",
       "    </tr>\n",
       "    <tr>\n",
       "      <th>3</th>\n",
       "      <td>CourtesyGreetingResponse</td>\n",
       "      <td>[Good thanks! My user is Adam, Good thanks! Th...</td>\n",
       "      <td>[Great! Hi &lt;HUMAN&gt;! How can I help?, Good! Hi ...</td>\n",
       "      <td>{'function': 'extensions.gHumans.updateHuman',...</td>\n",
       "      <td>{'in': 'GreetingUserRequest', 'out': '', 'clea...</td>\n",
       "      <td>NA</td>\n",
       "      <td>[{'entity': 'HUMAN', 'rangeFrom': 5, 'rangeTo'...</td>\n",
       "    </tr>\n",
       "    <tr>\n",
       "      <th>4</th>\n",
       "      <td>CurrentHumanQuery</td>\n",
       "      <td>[What is my name?, What do you call me?, Who d...</td>\n",
       "      <td>[You are &lt;HUMAN&gt;! How can I help?, Your name i...</td>\n",
       "      <td>{'function': 'extensions.gHumans.getCurrentHum...</td>\n",
       "      <td>{'in': '', 'out': 'CurrentHumanQuery', 'clear'...</td>\n",
       "      <td>NA</td>\n",
       "      <td>[]</td>\n",
       "    </tr>\n",
       "  </tbody>\n",
       "</table>\n",
       "</div>"
      ],
      "text/plain": [
       "                     intent  \\\n",
       "0                  Greeting   \n",
       "1          GreetingResponse   \n",
       "2          CourtesyGreeting   \n",
       "3  CourtesyGreetingResponse   \n",
       "4         CurrentHumanQuery   \n",
       "\n",
       "                                                text  \\\n",
       "0  [Hi, Hi there, Hola, Hello, Hello there, Hya, ...   \n",
       "1  [My user is Adam, This is Adam, I am Adam, It ...   \n",
       "2  [How are you?, Hi how are you?, Hello how are ...   \n",
       "3  [Good thanks! My user is Adam, Good thanks! Th...   \n",
       "4  [What is my name?, What do you call me?, Who d...   \n",
       "\n",
       "                                           responses  \\\n",
       "0  [Hi human, please tell me your GeniSys user, H...   \n",
       "1  [Great! Hi <HUMAN>! How can I help?, Good! Hi ...   \n",
       "2  [Hello, I am great, how are you? Please tell m...   \n",
       "3  [Great! Hi <HUMAN>! How can I help?, Good! Hi ...   \n",
       "4  [You are <HUMAN>! How can I help?, Your name i...   \n",
       "\n",
       "                                           extension  \\\n",
       "0  {'function': '', 'entities': False, 'responses...   \n",
       "1  {'function': 'extensions.gHumans.updateHuman',...   \n",
       "2  {'function': '', 'entities': False, 'responses...   \n",
       "3  {'function': 'extensions.gHumans.updateHuman',...   \n",
       "4  {'function': 'extensions.gHumans.getCurrentHum...   \n",
       "\n",
       "                                             context entityType  \\\n",
       "0  {'in': '', 'out': 'GreetingUserRequest', 'clea...         NA   \n",
       "1  {'in': 'GreetingUserRequest', 'out': '', 'clea...         NA   \n",
       "2  {'in': '', 'out': 'CourtesyGreetingUserRequest...         NA   \n",
       "3  {'in': 'GreetingUserRequest', 'out': '', 'clea...         NA   \n",
       "4  {'in': '', 'out': 'CurrentHumanQuery', 'clear'...         NA   \n",
       "\n",
       "                                            entities  \n",
       "0                                                 []  \n",
       "1  [{'entity': 'HUMAN', 'rangeFrom': 3, 'rangeTo'...  \n",
       "2                                                 []  \n",
       "3  [{'entity': 'HUMAN', 'rangeFrom': 5, 'rangeTo'...  \n",
       "4                                                 []  "
      ]
     },
     "execution_count": 3,
     "metadata": {},
     "output_type": "execute_result"
    }
   ],
   "source": [
    "import pandas as pd\n",
    "df = pd.read_json('./intent.json')\n",
    "df.head()"
   ]
  },
  {
   "cell_type": "code",
   "execution_count": 4,
   "metadata": {},
   "outputs": [
    {
     "data": {
      "text/html": [
       "<div>\n",
       "<style scoped>\n",
       "    .dataframe tbody tr th:only-of-type {\n",
       "        vertical-align: middle;\n",
       "    }\n",
       "\n",
       "    .dataframe tbody tr th {\n",
       "        vertical-align: top;\n",
       "    }\n",
       "\n",
       "    .dataframe thead th {\n",
       "        text-align: right;\n",
       "    }\n",
       "</style>\n",
       "<table border=\"1\" class=\"dataframe\">\n",
       "  <thead>\n",
       "    <tr style=\"text-align: right;\">\n",
       "      <th></th>\n",
       "      <th>intent</th>\n",
       "      <th>caption</th>\n",
       "    </tr>\n",
       "  </thead>\n",
       "  <tbody>\n",
       "    <tr>\n",
       "      <th>0</th>\n",
       "      <td>Greeting</td>\n",
       "      <td>Hi</td>\n",
       "    </tr>\n",
       "    <tr>\n",
       "      <th>1</th>\n",
       "      <td>Greeting</td>\n",
       "      <td>Hi there</td>\n",
       "    </tr>\n",
       "    <tr>\n",
       "      <th>2</th>\n",
       "      <td>Greeting</td>\n",
       "      <td>Hola</td>\n",
       "    </tr>\n",
       "    <tr>\n",
       "      <th>3</th>\n",
       "      <td>Greeting</td>\n",
       "      <td>Hello</td>\n",
       "    </tr>\n",
       "    <tr>\n",
       "      <th>4</th>\n",
       "      <td>Greeting</td>\n",
       "      <td>Hello there</td>\n",
       "    </tr>\n",
       "  </tbody>\n",
       "</table>\n",
       "</div>"
      ],
      "text/plain": [
       "     intent      caption\n",
       "0  Greeting           Hi\n",
       "1  Greeting     Hi there\n",
       "2  Greeting         Hola\n",
       "3  Greeting        Hello\n",
       "4  Greeting  Hello there"
      ]
     },
     "execution_count": 4,
     "metadata": {},
     "output_type": "execute_result"
    }
   ],
   "source": [
    "intent = []\n",
    "for field in df.values:\n",
    "    for text in field[1]:\n",
    "        intent.append({'intent':field[0], 'caption':preprocessing(text)})\n",
    "df = pd.DataFrame(intent)\n",
    "df.head()"
   ]
  },
  {
   "cell_type": "code",
   "execution_count": 5,
   "metadata": {},
   "outputs": [
    {
     "name": "stdout",
     "output_type": "stream",
     "text": [
      "UnderstandQuery, CourtesyGreetingResponse, Gossip, CurrentHumanQuery, Jokes, NameQuery, Clever, GoodBye, Shutup, Thanks, PodBayDoor, RealNameQuery, PodBayDoorResponse, GreetingResponse, TimeQuery, Greeting, CourtesyGoodBye, NotTalking2U, Swearing, WhoAmI, SelfAware, CourtesyGreeting\n"
     ]
    }
   ],
   "source": [
    "print(', '.join(set(df['intent'])))"
   ]
  },
  {
   "cell_type": "code",
   "execution_count": 6,
   "metadata": {},
   "outputs": [
    {
     "data": {
      "text/plain": [
       "0            hi \n",
       "1       hi ther \n",
       "2           hol \n",
       "3         hello \n",
       "4    hello ther \n",
       "Name: caption, dtype: object"
      ]
     },
     "execution_count": 6,
     "metadata": {},
     "output_type": "execute_result"
    }
   ],
   "source": [
    "from nltk.stem import LancasterStemmer\n",
    "stemmer = LancasterStemmer()\n",
    "df['caption'] = df['caption'].apply(stemSentence)\n",
    "df['caption'].head()"
   ]
  },
  {
   "cell_type": "code",
   "execution_count": 7,
   "metadata": {},
   "outputs": [],
   "source": [
    "from keras.preprocessing.text import Tokenizer\n",
    "tokenizer = Tokenizer(filters='', oov_token='<unk>')\n",
    "tokenizer.fit_on_texts(df['caption'])"
   ]
  },
  {
   "cell_type": "code",
   "execution_count": 8,
   "metadata": {},
   "outputs": [
    {
     "name": "stdout",
     "output_type": "stream",
     "text": [
      "117 36\n"
     ]
    }
   ],
   "source": [
    "vocab_size = len(tokenizer.word_index)+1\n",
    "maxlen = len(max(df['caption'], key = len))\n",
    "print(vocab_size, maxlen)"
   ]
  },
  {
   "cell_type": "code",
   "execution_count": 9,
   "metadata": {},
   "outputs": [
    {
     "data": {
      "text/plain": [
       "(143, 36)"
      ]
     },
     "execution_count": 9,
     "metadata": {},
     "output_type": "execute_result"
    }
   ],
   "source": [
    "from keras.preprocessing.sequence import pad_sequences\n",
    "encoded = tokenizer.texts_to_sequences(df['caption'])\n",
    "padded = pad_sequences(encoded, maxlen = maxlen, padding = \"pre\")\n",
    "padded.shape"
   ]
  },
  {
   "cell_type": "code",
   "execution_count": 10,
   "metadata": {},
   "outputs": [
    {
     "data": {
      "text/plain": [
       "(143, 22)"
      ]
     },
     "execution_count": 10,
     "metadata": {},
     "output_type": "execute_result"
    }
   ],
   "source": [
    "from sklearn.preprocessing import LabelEncoder\n",
    "from sklearn.preprocessing import OneHotEncoder\n",
    "ohe = OneHotEncoder()\n",
    "le = LabelEncoder()\n",
    "intents = le.fit_transform(df['intent'])\n",
    "intents = intents.reshape(-1,1)\n",
    "intents = ohe.fit_transform(intents).toarray()\n",
    "intents.shape"
   ]
  },
  {
   "cell_type": "code",
   "execution_count": 11,
   "metadata": {},
   "outputs": [
    {
     "name": "stdout",
     "output_type": "stream",
     "text": [
      "(114, 36) (114, 22)\n",
      "(29, 36) (29, 22)\n"
     ]
    }
   ],
   "source": [
    "from sklearn.model_selection import train_test_split\n",
    "train_X, test_X, train_Y, test_Y = train_test_split(padded, intents, test_size = 0.2)\n",
    "print(train_X.shape, train_Y.shape)\n",
    "print(test_X.shape, test_Y.shape)"
   ]
  },
  {
   "cell_type": "code",
   "execution_count": 12,
   "metadata": {},
   "outputs": [
    {
     "name": "stdout",
     "output_type": "stream",
     "text": [
      "Model: \"sequential\"\n",
      "_________________________________________________________________\n",
      "Layer (type)                 Output Shape              Param #   \n",
      "=================================================================\n",
      "embedding (Embedding)        (None, None, 512)         59904     \n",
      "_________________________________________________________________\n",
      "bidirectional (Bidirectional (None, 256)               656384    \n",
      "_________________________________________________________________\n",
      "dense (Dense)                (None, 128)               32896     \n",
      "_________________________________________________________________\n",
      "dropout (Dropout)            (None, 128)               0         \n",
      "_________________________________________________________________\n",
      "dense_1 (Dense)              (None, 22)                2838      \n",
      "=================================================================\n",
      "Total params: 752,022\n",
      "Trainable params: 752,022\n",
      "Non-trainable params: 0\n",
      "_________________________________________________________________\n"
     ]
    }
   ],
   "source": [
    "from keras.models import Sequential, load_model\n",
    "from keras.layers import Dense, LSTM, Bidirectional, Embedding, Dropout\n",
    "model = Sequential()\n",
    "model.add(Embedding(vocab_size, 512))\n",
    "model.add(Bidirectional(LSTM(128)))\n",
    "model.add(Dense(128, activation = \"relu\"))\n",
    "model.add(Dropout(0.5))\n",
    "model.add(Dense(22, activation = \"softmax\"))\n",
    "model.compile(loss = \"categorical_crossentropy\", optimizer = \"adam\", metrics = [\"accuracy\"])\n",
    "model.summary()"
   ]
  },
  {
   "cell_type": "code",
   "execution_count": 13,
   "metadata": {},
   "outputs": [
    {
     "name": "stdout",
     "output_type": "stream",
     "text": [
      "Epoch 1/50\n",
      "4/4 [==============================] - 3s 856ms/step - loss: 3.0910 - accuracy: 0.0526 - val_loss: 3.0955 - val_accuracy: 0.0690\n",
      "Epoch 2/50\n",
      "4/4 [==============================] - 1s 247ms/step - loss: 3.0751 - accuracy: 0.0614 - val_loss: 3.1057 - val_accuracy: 0.0690\n",
      "Epoch 3/50\n",
      "4/4 [==============================] - 1s 206ms/step - loss: 3.0607 - accuracy: 0.0789 - val_loss: 3.0974 - val_accuracy: 0.0000e+00\n",
      "Epoch 4/50\n",
      "4/4 [==============================] - 1s 216ms/step - loss: 3.0347 - accuracy: 0.0965 - val_loss: 3.0575 - val_accuracy: 0.0690\n",
      "Epoch 5/50\n",
      "4/4 [==============================] - 1s 221ms/step - loss: 2.9841 - accuracy: 0.1754 - val_loss: 3.0296 - val_accuracy: 0.1379\n",
      "Epoch 6/50\n",
      "4/4 [==============================] - 1s 241ms/step - loss: 2.9500 - accuracy: 0.1754 - val_loss: 2.9987 - val_accuracy: 0.1034\n",
      "Epoch 7/50\n",
      "4/4 [==============================] - 1s 256ms/step - loss: 2.8527 - accuracy: 0.2193 - val_loss: 2.9317 - val_accuracy: 0.1379\n",
      "Epoch 8/50\n",
      "4/4 [==============================] - 1s 330ms/step - loss: 2.7766 - accuracy: 0.2281 - val_loss: 2.8900 - val_accuracy: 0.1724\n",
      "Epoch 9/50\n",
      "4/4 [==============================] - 1s 223ms/step - loss: 2.6579 - accuracy: 0.2368 - val_loss: 2.7438 - val_accuracy: 0.2069\n",
      "Epoch 10/50\n",
      "4/4 [==============================] - 1s 373ms/step - loss: 2.4944 - accuracy: 0.3684 - val_loss: 2.6241 - val_accuracy: 0.1724\n",
      "Epoch 11/50\n",
      "4/4 [==============================] - 1s 171ms/step - loss: 2.3912 - accuracy: 0.3333 - val_loss: 2.4559 - val_accuracy: 0.2759\n",
      "Epoch 12/50\n",
      "4/4 [==============================] - 1s 196ms/step - loss: 2.0888 - accuracy: 0.3596 - val_loss: 2.3162 - val_accuracy: 0.2759\n",
      "Epoch 13/50\n",
      "4/4 [==============================] - 1s 189ms/step - loss: 2.0025 - accuracy: 0.4298 - val_loss: 2.1945 - val_accuracy: 0.3103\n",
      "Epoch 14/50\n",
      "4/4 [==============================] - 1s 225ms/step - loss: 1.8079 - accuracy: 0.5439 - val_loss: 2.0099 - val_accuracy: 0.4483\n",
      "Epoch 15/50\n",
      "4/4 [==============================] - 1s 198ms/step - loss: 1.6849 - accuracy: 0.5439 - val_loss: 1.9478 - val_accuracy: 0.3793\n",
      "Epoch 16/50\n",
      "4/4 [==============================] - 1s 199ms/step - loss: 1.5867 - accuracy: 0.5965 - val_loss: 1.8141 - val_accuracy: 0.4828\n",
      "Epoch 17/50\n",
      "4/4 [==============================] - 1s 258ms/step - loss: 1.4028 - accuracy: 0.6404 - val_loss: 1.6718 - val_accuracy: 0.5172\n",
      "Epoch 18/50\n",
      "4/4 [==============================] - 1s 174ms/step - loss: 1.1665 - accuracy: 0.6930 - val_loss: 1.5365 - val_accuracy: 0.5517\n",
      "Epoch 19/50\n",
      "4/4 [==============================] - 1s 314ms/step - loss: 1.2161 - accuracy: 0.6754 - val_loss: 1.4585 - val_accuracy: 0.5517\n",
      "Epoch 20/50\n",
      "4/4 [==============================] - 1s 338ms/step - loss: 0.9908 - accuracy: 0.7456 - val_loss: 1.3378 - val_accuracy: 0.6207\n",
      "Epoch 21/50\n",
      "4/4 [==============================] - 1s 198ms/step - loss: 0.8406 - accuracy: 0.7719 - val_loss: 1.2608 - val_accuracy: 0.6552\n",
      "Epoch 22/50\n",
      "4/4 [==============================] - 1s 237ms/step - loss: 0.7798 - accuracy: 0.7632 - val_loss: 1.2428 - val_accuracy: 0.6897\n",
      "Epoch 23/50\n",
      "4/4 [==============================] - 1s 250ms/step - loss: 0.6475 - accuracy: 0.8684 - val_loss: 1.3013 - val_accuracy: 0.7241\n",
      "Epoch 24/50\n",
      "4/4 [==============================] - 1s 180ms/step - loss: 0.5596 - accuracy: 0.9035 - val_loss: 1.1822 - val_accuracy: 0.7586\n",
      "Epoch 25/50\n",
      "4/4 [==============================] - 1s 240ms/step - loss: 0.4983 - accuracy: 0.8684 - val_loss: 1.1310 - val_accuracy: 0.7241\n",
      "Epoch 26/50\n",
      "4/4 [==============================] - 1s 221ms/step - loss: 0.4364 - accuracy: 0.9035 - val_loss: 1.0936 - val_accuracy: 0.7586\n",
      "Epoch 27/50\n",
      "4/4 [==============================] - 1s 190ms/step - loss: 0.3400 - accuracy: 0.9474 - val_loss: 1.1373 - val_accuracy: 0.7586\n",
      "Epoch 28/50\n",
      "4/4 [==============================] - 1s 211ms/step - loss: 0.3902 - accuracy: 0.9211 - val_loss: 1.0716 - val_accuracy: 0.7586\n",
      "Epoch 29/50\n",
      "4/4 [==============================] - 1s 213ms/step - loss: 0.3534 - accuracy: 0.9211 - val_loss: 1.1115 - val_accuracy: 0.7586\n",
      "Epoch 30/50\n",
      "4/4 [==============================] - 1s 195ms/step - loss: 0.2511 - accuracy: 0.9561 - val_loss: 1.1411 - val_accuracy: 0.7241\n",
      "Epoch 31/50\n",
      "4/4 [==============================] - 1s 188ms/step - loss: 0.2622 - accuracy: 0.9561 - val_loss: 1.0186 - val_accuracy: 0.7586\n",
      "Epoch 32/50\n",
      "4/4 [==============================] - 1s 198ms/step - loss: 0.2208 - accuracy: 0.9737 - val_loss: 1.1230 - val_accuracy: 0.7586\n",
      "Epoch 33/50\n",
      "4/4 [==============================] - 1s 308ms/step - loss: 0.1949 - accuracy: 0.9825 - val_loss: 1.0296 - val_accuracy: 0.7586\n",
      "Epoch 34/50\n",
      "4/4 [==============================] - 1s 221ms/step - loss: 0.1542 - accuracy: 0.9825 - val_loss: 0.9697 - val_accuracy: 0.7586\n",
      "Epoch 35/50\n",
      "4/4 [==============================] - 1s 188ms/step - loss: 0.1377 - accuracy: 0.9912 - val_loss: 1.0263 - val_accuracy: 0.7586\n",
      "Epoch 36/50\n",
      "4/4 [==============================] - 1s 180ms/step - loss: 0.1437 - accuracy: 0.9825 - val_loss: 0.9924 - val_accuracy: 0.7586\n",
      "Epoch 37/50\n",
      "4/4 [==============================] - 1s 244ms/step - loss: 0.1037 - accuracy: 1.0000 - val_loss: 0.9642 - val_accuracy: 0.7586\n",
      "Epoch 38/50\n",
      "4/4 [==============================] - 1s 290ms/step - loss: 0.1301 - accuracy: 0.9649 - val_loss: 1.0300 - val_accuracy: 0.7586\n",
      "Epoch 39/50\n",
      "4/4 [==============================] - 1s 295ms/step - loss: 0.1342 - accuracy: 0.9737 - val_loss: 1.0676 - val_accuracy: 0.7586\n",
      "Epoch 40/50\n",
      "4/4 [==============================] - 1s 228ms/step - loss: 0.1091 - accuracy: 0.9825 - val_loss: 1.1267 - val_accuracy: 0.7586\n",
      "Epoch 41/50\n",
      "4/4 [==============================] - 1s 292ms/step - loss: 0.1301 - accuracy: 0.9737 - val_loss: 1.1236 - val_accuracy: 0.7586\n",
      "Epoch 42/50\n",
      "4/4 [==============================] - 1s 263ms/step - loss: 0.1182 - accuracy: 0.9825 - val_loss: 1.2152 - val_accuracy: 0.7586\n"
     ]
    }
   ],
   "source": [
    "from keras.callbacks import EarlyStopping \n",
    "es_callback = EarlyStopping(monitor='val_loss', patience=5)\n",
    "history = model.fit(train_X, train_Y,\n",
    "                    epochs = 50, \n",
    "                    validation_data=(test_X, test_Y), \n",
    "                    batch_size=32,\n",
    "                    callbacks=[es_callback])"
   ]
  },
  {
   "cell_type": "code",
   "execution_count": 14,
   "metadata": {},
   "outputs": [
    {
     "data": {
      "image/png": "[encoded data removed]",
      "text/plain": [
       "<Figure size 432x288 with 1 Axes>"
      ]
     },
     "metadata": {
      "needs_background": "light"
     },
     "output_type": "display_data"
    },
    {
     "data": {
      "image/png": "[encoded data removed]",
      "text/plain": [
       "<Figure size 432x288 with 1 Axes>"
      ]
     },
     "metadata": {
      "needs_background": "light"
     },
     "output_type": "display_data"
    }
   ],
   "source": [
    "import matplotlib.pyplot as plt\n",
    "\n",
    "\n",
    "def plot_graphs(history, string):\n",
    "  plt.plot(history.history[string])\n",
    "  plt.plot(history.history['val_'+string])\n",
    "  plt.xlabel(\"Epochs\")\n",
    "  plt.ylabel(string)\n",
    "  plt.legend([string, 'val_'+string])\n",
    "  plt.show()\n",
    "  \n",
    "plot_graphs(history, \"accuracy\")\n",
    "plot_graphs(history, \"loss\")"
   ]
  },
  {
   "cell_type": "code",
   "execution_count": 33,
   "metadata": {},
   "outputs": [],
   "source": [
    "import warnings\n",
    "from sklearn.exceptions import DataConversionWarning\n",
    "warnings.filterwarnings(action='ignore', category=DataConversionWarning)"
   ]
  },
  {
   "cell_type": "code",
   "execution_count": 39,
   "metadata": {},
   "outputs": [
    {
     "name": "stdout",
     "output_type": "stream",
     "text": [
      "Enter message: what is your name\n"
     ]
    },
    {
     "data": {
      "text/plain": [
       "'NameQuery'"
      ]
     },
     "execution_count": 39,
     "metadata": {},
     "output_type": "execute_result"
    }
   ],
   "source": [
    "message = input(\"Enter message: \")\n",
    "stemmed = stemSentence(message)\n",
    "encoded = tokenizer.texts_to_sequences([stemmed])\n",
    "padded = pad_sequences(encoded, maxlen=maxlen, padding=\"pre\")\n",
    "result = ohe.inverse_transform(model(padded))\n",
    "le.inverse_transform(result)[0]"
   ]
  },
  {
   "cell_type": "code",
   "execution_count": null,
   "metadata": {},
   "outputs": [],
   "source": []
  }
 ],
 "metadata": {
  "kernelspec": {
   "display_name": "Python 3",
   "language": "python",
   "name": "python3"
  },
  "language_info": {
   "codemirror_mode": {
    "name": "ipython",
    "version": 3
   },
   "file_extension": ".py",
   "mimetype": "text/x-python",
   "name": "python",
   "nbconvert_exporter": "python",
   "pygments_lexer": "ipython3",
   "version": "3.8.8"
  }
 },
 "nbformat": 4,
 "nbformat_minor": 4
}
